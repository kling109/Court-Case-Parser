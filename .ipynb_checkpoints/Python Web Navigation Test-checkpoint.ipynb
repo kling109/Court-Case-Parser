{
 "cells": [
  {
   "cell_type": "markdown",
   "metadata": {},
   "source": [
    "# Imports"
   ]
  },
  {
   "cell_type": "code",
   "execution_count": 135,
   "metadata": {},
   "outputs": [],
   "source": [
    "from selenium import webdriver\n",
    "import re as regx\n",
    "import time\n",
    "import datetime"
   ]
  },
  {
   "cell_type": "markdown",
   "metadata": {},
   "source": [
    "# Browser"
   ]
  },
  {
   "cell_type": "code",
   "execution_count": 136,
   "metadata": {},
   "outputs": [],
   "source": [
    "__BROWSER__ = webdriver.Chrome(executable_path='/Users/matthewraymond/chromedriver')\n",
    "__BROWSER__.implicitly_wait(10)"
   ]
  },
  {
   "cell_type": "markdown",
   "metadata": {},
   "source": [
    "# Global Testing Variables"
   ]
  },
  {
   "cell_type": "code",
   "execution_count": 137,
   "metadata": {},
   "outputs": [],
   "source": [
    "__TESTINGWEBSITES__ = [\"https://www.sccourts.org/casesearch/\", # agreement says no crawlers\n",
    "                       \"https://wcca.wicourts.gov/case.html\",\n",
    "                       \"https://www.oscn.net/dockets/search.aspx\",\n",
    "                       \"https://www.civitekflorida.com/ocrs/county/\", # recapcha\n",
    "                       \"https://apps.supremecourt.az.gov/publicaccess/caselookup.aspx\", # captcha\n",
    "                       \"https://www.superiorcourt.maricopa.gov/docket/CriminalCourtCases/caseSearch.asp\",\n",
    "                       \"http://justicecourts.maricopa.gov/FindACase/casehistory.aspx\",\n",
    "                       \"https://casesearch.epcounty.com/PublicAccess/default.aspx\"]\n",
    "\n",
    "__LEGALWEBSITES__ = __TESTINGWEBSITES__[1:3] + __TESTINGWEBSITES__[-3:]\n",
    "\n",
    "__TESTING_FNAME__ = \"John\"\n",
    "__TESTING_LNAME__ = \"Smith\"\n",
    "__TESTING_MNAME__ = \"Herbert\"\n",
    "\n",
    "__TESTING_DOB__ = datetime.datetime(2001, 9, 11)"
   ]
  },
  {
   "cell_type": "code",
   "execution_count": 138,
   "metadata": {},
   "outputs": [],
   "source": [
    "# Removes one for testing\n",
    "__LEGALWEBSITES__ = __LEGALWEBSITES__[:-1]"
   ]
  },
  {
   "cell_type": "markdown",
   "metadata": {},
   "source": [
    "# Regex"
   ]
  },
  {
   "cell_type": "code",
   "execution_count": 187,
   "metadata": {},
   "outputs": [],
   "source": [
    "__FIRSTNAME__ = \"=\\\"[^\\\"]*[Ff][A-Za-z]*[Nn]ame[A-Za-z]*\\\"\"\n",
    "__LASTNAME__ = \"=\\\"[^\\\"]*[Ll][A-Za-z]*[Nn]ame[A-Za-z]*\\\"\"\n",
    "__MIDDLENAME__ = \"=\\\"[^\\\"]*[Mm][A-Za-z]*[Nn]ame[A-Za-z]*\\\"\"\n",
    "__BIRTHDATE__ = \"=\\\"[^\\\"]*[Bb]irth[A-Za-z]*\\\"\"\n",
    "__DATEFORMAT__ = \"[MD]{2}.[MD]{2}.[Y]{4}\"\n",
    "__REACTFORMAT__ = \"\\\"[^\\\"]*?(react)[^\\\"]\\\"><\\/div>\"\n",
    "__SEARCHBUTTON__ = \"=\\\"[^\\\"]*?(search)[^\\\"]*?\\\"\""
   ]
  },
  {
   "cell_type": "markdown",
   "metadata": {},
   "source": [
    "# Function Declaration"
   ]
  },
  {
   "cell_type": "markdown",
   "metadata": {},
   "source": [
    "## Scraping Info from Webpage"
   ]
  },
  {
   "cell_type": "code",
   "execution_count": 190,
   "metadata": {},
   "outputs": [],
   "source": [
    "# function that get's the html from a web url\n",
    "def getSource(strURL):\n",
    "    __BROWSER__.get(strURL)\n",
    "    print(\"Scraping website source code...\")\n",
    "    \n",
    "    html = __BROWSER__.page_source\n",
    "    while regx.search(__REACTFORMAT__, html, regx.IGNORECASE) is not None:\n",
    "        time.sleep(1)\n",
    "        html = __BROWSER__.page_source\n",
    "          \n",
    "    return html\n",
    "\n",
    "def regSearchName(ws, re):\n",
    "    _result = regx.search(\"name\" + re, ws)\n",
    "    if(_result is None):\n",
    "        return \"\";\n",
    "    else:\n",
    "        return _result[0][6:-1]\n",
    "\n",
    "def regSearchID(ws, re):\n",
    "    _result = regx.search(\"id\" + re, ws)\n",
    "    if(_result is None):\n",
    "        return \"\";\n",
    "    else:\n",
    "        return _result[0][4:-1]\n",
    "\n",
    "def getIDandName(ws, re):\n",
    "    return (regSearchID(ws, re), regSearchName(ws, re))"
   ]
  },
  {
   "cell_type": "markdown",
   "metadata": {},
   "source": [
    "## Input Filling"
   ]
  },
  {
   "cell_type": "code",
   "execution_count": 191,
   "metadata": {},
   "outputs": [],
   "source": [
    "def fillOutName(html, fn, ln, mn):\n",
    "    fnID, fnName = getIDandName(html, __FIRSTNAME__)\n",
    "    mnID, mnName = getIDandName(html, __MIDDLENAME__)\n",
    "    lnID, lnName = getIDandName(html, __LASTNAME__)\n",
    "\n",
    "    sendInput(fnName, fn)\n",
    "    sendInput(mnName, mn)\n",
    "    sendInput(lnName, ln)\n",
    "\n",
    "    \n",
    "def sendInput(e, s):\n",
    "    item = __BROWSER__.find_element_by_name(e)\n",
    "    item.click()\n",
    "    item.clear()\n",
    "    item.send_keys(s)\n",
    "    \n",
    "def fillOutDOB(html, dob):\n",
    "    if dob is not None:\n",
    "        dID, dName = getIDandName(html, __BIRTHDATE__)\n",
    "        item = __BROWSER__.find_element_by_name(dName)\n",
    "        item.click()\n",
    "        item.clear()\n",
    "        delim = findDateFormat(html)\n",
    "        item.send_keys(\"{1}{0}{2}{0}{3}\".format(dob.month, dob.day, dob.year, findDateFormat(html)))\n",
    "    \n",
    "def findDateFormat(html):\n",
    "    print(__DATEFORMAT__)\n",
    "    result = regx.search(__DATEFORMAT__, html, regx.IGNORECASE)\n",
    "    if result is not None:\n",
    "        return result[2]\n",
    "    else:\n",
    "        return '-'\n",
    "\n",
    "def search(html):\n",
    "    sID, sName = getIDandName(html, __SEARCHBUTTON__, regx.IGNORECASE)\n",
    "    item = __BROWSER__.find_element_by_name(sName)\n",
    "    item.click()\n",
    "    \n",
    "def fillOutInformation(html, fn, ln, mn = \"\", dob = None):\n",
    "    fillOutName(html, fn, ln, mn)\n",
    "    fillOutDOB(html, dob)"
   ]
  },
  {
   "cell_type": "markdown",
   "metadata": {},
   "source": [
    "# Testing"
   ]
  },
  {
   "cell_type": "code",
   "execution_count": 161,
   "metadata": {
    "scrolled": false
   },
   "outputs": [
    {
     "name": "stdout",
     "output_type": "stream",
     "text": [
      "Scraping website source code...\n",
      "Scraping website source code...\n",
      "Scraping website source code...\n",
      "Scraping website source code...\n"
     ]
    }
   ],
   "source": [
    "__WEBSITEHTML__ = []\n",
    "\n",
    "for site in __LEGALWEBSITES__:\n",
    "    __WEBSITEHTML__.append(getSource(site))\n"
   ]
  },
  {
   "cell_type": "code",
   "execution_count": 192,
   "metadata": {},
   "outputs": [
    {
     "ename": "error",
     "evalue": "nothing to repeat at position 14316 (line 19, column 4117)",
     "output_type": "error",
     "traceback": [
      "\u001b[0;31m---------------------------------------------------------------------------\u001b[0m",
      "\u001b[0;31merror\u001b[0m                                     Traceback (most recent call last)",
      "\u001b[0;32m<ipython-input-192-43184b8d42a6>\u001b[0m in \u001b[0;36m<module>\u001b[0;34m\u001b[0m\n\u001b[1;32m      3\u001b[0m \u001b[0m__BROWSER__\u001b[0m\u001b[0;34m.\u001b[0m\u001b[0mget\u001b[0m\u001b[0;34m(\u001b[0m\u001b[0mcurrent\u001b[0m\u001b[0;34m)\u001b[0m\u001b[0;34m\u001b[0m\u001b[0;34m\u001b[0m\u001b[0m\n\u001b[1;32m      4\u001b[0m \u001b[0;34m\u001b[0m\u001b[0m\n\u001b[0;32m----> 5\u001b[0;31m \u001b[0mfillOutInformation\u001b[0m\u001b[0;34m(\u001b[0m\u001b[0mhtml\u001b[0m\u001b[0;34m,\u001b[0m \u001b[0m__TESTING_FNAME__\u001b[0m\u001b[0;34m,\u001b[0m \u001b[0m__TESTING_LNAME__\u001b[0m\u001b[0;34m,\u001b[0m \u001b[0m__TESTING_MNAME__\u001b[0m\u001b[0;34m,\u001b[0m \u001b[0m__TESTING_DOB__\u001b[0m\u001b[0;34m)\u001b[0m\u001b[0;34m\u001b[0m\u001b[0;34m\u001b[0m\u001b[0m\n\u001b[0m",
      "\u001b[0;32m<ipython-input-191-344c1270fa0d>\u001b[0m in \u001b[0;36mfillOutInformation\u001b[0;34m(html, fn, ln, mn, dob)\u001b[0m\n\u001b[1;32m     39\u001b[0m \u001b[0;32mdef\u001b[0m \u001b[0mfillOutInformation\u001b[0m\u001b[0;34m(\u001b[0m\u001b[0mhtml\u001b[0m\u001b[0;34m,\u001b[0m \u001b[0mfn\u001b[0m\u001b[0;34m,\u001b[0m \u001b[0mln\u001b[0m\u001b[0;34m,\u001b[0m \u001b[0mmn\u001b[0m \u001b[0;34m=\u001b[0m \u001b[0;34m\"\"\u001b[0m\u001b[0;34m,\u001b[0m \u001b[0mdob\u001b[0m \u001b[0;34m=\u001b[0m \u001b[0;32mNone\u001b[0m\u001b[0;34m)\u001b[0m\u001b[0;34m:\u001b[0m\u001b[0;34m\u001b[0m\u001b[0;34m\u001b[0m\u001b[0m\n\u001b[1;32m     40\u001b[0m     \u001b[0mfillOutName\u001b[0m\u001b[0;34m(\u001b[0m\u001b[0mhtml\u001b[0m\u001b[0;34m,\u001b[0m \u001b[0mfn\u001b[0m\u001b[0;34m,\u001b[0m \u001b[0mln\u001b[0m\u001b[0;34m,\u001b[0m \u001b[0mmn\u001b[0m\u001b[0;34m)\u001b[0m\u001b[0;34m\u001b[0m\u001b[0;34m\u001b[0m\u001b[0m\n\u001b[0;32m---> 41\u001b[0;31m     \u001b[0mfillOutDOB\u001b[0m\u001b[0;34m(\u001b[0m\u001b[0mhtml\u001b[0m\u001b[0;34m,\u001b[0m \u001b[0mdob\u001b[0m\u001b[0;34m)\u001b[0m\u001b[0;34m\u001b[0m\u001b[0;34m\u001b[0m\u001b[0m\n\u001b[0m",
      "\u001b[0;32m<ipython-input-191-344c1270fa0d>\u001b[0m in \u001b[0;36mfillOutDOB\u001b[0;34m(html, dob)\u001b[0m\n\u001b[1;32m     17\u001b[0m \u001b[0;32mdef\u001b[0m \u001b[0mfillOutDOB\u001b[0m\u001b[0;34m(\u001b[0m\u001b[0mhtml\u001b[0m\u001b[0;34m,\u001b[0m \u001b[0mdob\u001b[0m\u001b[0;34m)\u001b[0m\u001b[0;34m:\u001b[0m\u001b[0;34m\u001b[0m\u001b[0;34m\u001b[0m\u001b[0m\n\u001b[1;32m     18\u001b[0m     \u001b[0;32mif\u001b[0m \u001b[0mdob\u001b[0m \u001b[0;32mis\u001b[0m \u001b[0;32mnot\u001b[0m \u001b[0;32mNone\u001b[0m\u001b[0;34m:\u001b[0m\u001b[0;34m\u001b[0m\u001b[0;34m\u001b[0m\u001b[0m\n\u001b[0;32m---> 19\u001b[0;31m         \u001b[0mdID\u001b[0m\u001b[0;34m,\u001b[0m \u001b[0mdName\u001b[0m \u001b[0;34m=\u001b[0m \u001b[0mgetIDandName\u001b[0m\u001b[0;34m(\u001b[0m\u001b[0m__BIRTHDATE__\u001b[0m\u001b[0;34m,\u001b[0m \u001b[0mhtml\u001b[0m\u001b[0;34m)\u001b[0m\u001b[0;34m\u001b[0m\u001b[0;34m\u001b[0m\u001b[0m\n\u001b[0m\u001b[1;32m     20\u001b[0m         \u001b[0mitem\u001b[0m \u001b[0;34m=\u001b[0m \u001b[0m__BROWSER__\u001b[0m\u001b[0;34m.\u001b[0m\u001b[0mfind_element_by_name\u001b[0m\u001b[0;34m(\u001b[0m\u001b[0mdName\u001b[0m\u001b[0;34m)\u001b[0m\u001b[0;34m\u001b[0m\u001b[0;34m\u001b[0m\u001b[0m\n\u001b[1;32m     21\u001b[0m         \u001b[0mitem\u001b[0m\u001b[0;34m.\u001b[0m\u001b[0mclick\u001b[0m\u001b[0;34m(\u001b[0m\u001b[0;34m)\u001b[0m\u001b[0;34m\u001b[0m\u001b[0;34m\u001b[0m\u001b[0m\n",
      "\u001b[0;32m<ipython-input-190-8696afdda1ac>\u001b[0m in \u001b[0;36mgetIDandName\u001b[0;34m(ws, re)\u001b[0m\n\u001b[1;32m     26\u001b[0m \u001b[0;34m\u001b[0m\u001b[0m\n\u001b[1;32m     27\u001b[0m \u001b[0;32mdef\u001b[0m \u001b[0mgetIDandName\u001b[0m\u001b[0;34m(\u001b[0m\u001b[0mws\u001b[0m\u001b[0;34m,\u001b[0m \u001b[0mre\u001b[0m\u001b[0;34m)\u001b[0m\u001b[0;34m:\u001b[0m\u001b[0;34m\u001b[0m\u001b[0;34m\u001b[0m\u001b[0m\n\u001b[0;32m---> 28\u001b[0;31m     \u001b[0;32mreturn\u001b[0m \u001b[0;34m(\u001b[0m\u001b[0mregSearchID\u001b[0m\u001b[0;34m(\u001b[0m\u001b[0mws\u001b[0m\u001b[0;34m,\u001b[0m \u001b[0mre\u001b[0m\u001b[0;34m)\u001b[0m\u001b[0;34m,\u001b[0m \u001b[0mregSearchName\u001b[0m\u001b[0;34m(\u001b[0m\u001b[0mws\u001b[0m\u001b[0;34m,\u001b[0m \u001b[0mre\u001b[0m\u001b[0;34m)\u001b[0m\u001b[0;34m)\u001b[0m\u001b[0;34m\u001b[0m\u001b[0;34m\u001b[0m\u001b[0m\n\u001b[0m",
      "\u001b[0;32m<ipython-input-190-8696afdda1ac>\u001b[0m in \u001b[0;36mregSearchID\u001b[0;34m(ws, re)\u001b[0m\n\u001b[1;32m     19\u001b[0m \u001b[0;34m\u001b[0m\u001b[0m\n\u001b[1;32m     20\u001b[0m \u001b[0;32mdef\u001b[0m \u001b[0mregSearchID\u001b[0m\u001b[0;34m(\u001b[0m\u001b[0mws\u001b[0m\u001b[0;34m,\u001b[0m \u001b[0mre\u001b[0m\u001b[0;34m)\u001b[0m\u001b[0;34m:\u001b[0m\u001b[0;34m\u001b[0m\u001b[0;34m\u001b[0m\u001b[0m\n\u001b[0;32m---> 21\u001b[0;31m     \u001b[0m_result\u001b[0m \u001b[0;34m=\u001b[0m \u001b[0mregx\u001b[0m\u001b[0;34m.\u001b[0m\u001b[0msearch\u001b[0m\u001b[0;34m(\u001b[0m\u001b[0;34m\"id\"\u001b[0m \u001b[0;34m+\u001b[0m \u001b[0mre\u001b[0m\u001b[0;34m,\u001b[0m \u001b[0mws\u001b[0m\u001b[0;34m)\u001b[0m\u001b[0;34m\u001b[0m\u001b[0;34m\u001b[0m\u001b[0m\n\u001b[0m\u001b[1;32m     22\u001b[0m     \u001b[0;32mif\u001b[0m\u001b[0;34m(\u001b[0m\u001b[0m_result\u001b[0m \u001b[0;32mis\u001b[0m \u001b[0;32mNone\u001b[0m\u001b[0;34m)\u001b[0m\u001b[0;34m:\u001b[0m\u001b[0;34m\u001b[0m\u001b[0;34m\u001b[0m\u001b[0m\n\u001b[1;32m     23\u001b[0m         \u001b[0;32mreturn\u001b[0m \u001b[0;34m\"\"\u001b[0m\u001b[0;34m;\u001b[0m\u001b[0;34m\u001b[0m\u001b[0;34m\u001b[0m\u001b[0m\n",
      "\u001b[0;32m//anaconda3/lib/python3.7/re.py\u001b[0m in \u001b[0;36msearch\u001b[0;34m(pattern, string, flags)\u001b[0m\n\u001b[1;32m    181\u001b[0m     \"\"\"Scan through string looking for a match to the pattern, returning\n\u001b[1;32m    182\u001b[0m     a Match object, or None if no match was found.\"\"\"\n\u001b[0;32m--> 183\u001b[0;31m     \u001b[0;32mreturn\u001b[0m \u001b[0m_compile\u001b[0m\u001b[0;34m(\u001b[0m\u001b[0mpattern\u001b[0m\u001b[0;34m,\u001b[0m \u001b[0mflags\u001b[0m\u001b[0;34m)\u001b[0m\u001b[0;34m.\u001b[0m\u001b[0msearch\u001b[0m\u001b[0;34m(\u001b[0m\u001b[0mstring\u001b[0m\u001b[0;34m)\u001b[0m\u001b[0;34m\u001b[0m\u001b[0;34m\u001b[0m\u001b[0m\n\u001b[0m\u001b[1;32m    184\u001b[0m \u001b[0;34m\u001b[0m\u001b[0m\n\u001b[1;32m    185\u001b[0m \u001b[0;32mdef\u001b[0m \u001b[0msub\u001b[0m\u001b[0;34m(\u001b[0m\u001b[0mpattern\u001b[0m\u001b[0;34m,\u001b[0m \u001b[0mrepl\u001b[0m\u001b[0;34m,\u001b[0m \u001b[0mstring\u001b[0m\u001b[0;34m,\u001b[0m \u001b[0mcount\u001b[0m\u001b[0;34m=\u001b[0m\u001b[0;36m0\u001b[0m\u001b[0;34m,\u001b[0m \u001b[0mflags\u001b[0m\u001b[0;34m=\u001b[0m\u001b[0;36m0\u001b[0m\u001b[0;34m)\u001b[0m\u001b[0;34m:\u001b[0m\u001b[0;34m\u001b[0m\u001b[0;34m\u001b[0m\u001b[0m\n",
      "\u001b[0;32m//anaconda3/lib/python3.7/re.py\u001b[0m in \u001b[0;36m_compile\u001b[0;34m(pattern, flags)\u001b[0m\n\u001b[1;32m    284\u001b[0m     \u001b[0;32mif\u001b[0m \u001b[0;32mnot\u001b[0m \u001b[0msre_compile\u001b[0m\u001b[0;34m.\u001b[0m\u001b[0misstring\u001b[0m\u001b[0;34m(\u001b[0m\u001b[0mpattern\u001b[0m\u001b[0;34m)\u001b[0m\u001b[0;34m:\u001b[0m\u001b[0;34m\u001b[0m\u001b[0;34m\u001b[0m\u001b[0m\n\u001b[1;32m    285\u001b[0m         \u001b[0;32mraise\u001b[0m \u001b[0mTypeError\u001b[0m\u001b[0;34m(\u001b[0m\u001b[0;34m\"first argument must be string or compiled pattern\"\u001b[0m\u001b[0;34m)\u001b[0m\u001b[0;34m\u001b[0m\u001b[0;34m\u001b[0m\u001b[0m\n\u001b[0;32m--> 286\u001b[0;31m     \u001b[0mp\u001b[0m \u001b[0;34m=\u001b[0m \u001b[0msre_compile\u001b[0m\u001b[0;34m.\u001b[0m\u001b[0mcompile\u001b[0m\u001b[0;34m(\u001b[0m\u001b[0mpattern\u001b[0m\u001b[0;34m,\u001b[0m \u001b[0mflags\u001b[0m\u001b[0;34m)\u001b[0m\u001b[0;34m\u001b[0m\u001b[0;34m\u001b[0m\u001b[0m\n\u001b[0m\u001b[1;32m    287\u001b[0m     \u001b[0;32mif\u001b[0m \u001b[0;32mnot\u001b[0m \u001b[0;34m(\u001b[0m\u001b[0mflags\u001b[0m \u001b[0;34m&\u001b[0m \u001b[0mDEBUG\u001b[0m\u001b[0;34m)\u001b[0m\u001b[0;34m:\u001b[0m\u001b[0;34m\u001b[0m\u001b[0;34m\u001b[0m\u001b[0m\n\u001b[1;32m    288\u001b[0m         \u001b[0;32mif\u001b[0m \u001b[0mlen\u001b[0m\u001b[0;34m(\u001b[0m\u001b[0m_cache\u001b[0m\u001b[0;34m)\u001b[0m \u001b[0;34m>=\u001b[0m \u001b[0m_MAXCACHE\u001b[0m\u001b[0;34m:\u001b[0m\u001b[0;34m\u001b[0m\u001b[0;34m\u001b[0m\u001b[0m\n",
      "\u001b[0;32m//anaconda3/lib/python3.7/sre_compile.py\u001b[0m in \u001b[0;36mcompile\u001b[0;34m(p, flags)\u001b[0m\n\u001b[1;32m    762\u001b[0m     \u001b[0;32mif\u001b[0m \u001b[0misstring\u001b[0m\u001b[0;34m(\u001b[0m\u001b[0mp\u001b[0m\u001b[0;34m)\u001b[0m\u001b[0;34m:\u001b[0m\u001b[0;34m\u001b[0m\u001b[0;34m\u001b[0m\u001b[0m\n\u001b[1;32m    763\u001b[0m         \u001b[0mpattern\u001b[0m \u001b[0;34m=\u001b[0m \u001b[0mp\u001b[0m\u001b[0;34m\u001b[0m\u001b[0;34m\u001b[0m\u001b[0m\n\u001b[0;32m--> 764\u001b[0;31m         \u001b[0mp\u001b[0m \u001b[0;34m=\u001b[0m \u001b[0msre_parse\u001b[0m\u001b[0;34m.\u001b[0m\u001b[0mparse\u001b[0m\u001b[0;34m(\u001b[0m\u001b[0mp\u001b[0m\u001b[0;34m,\u001b[0m \u001b[0mflags\u001b[0m\u001b[0;34m)\u001b[0m\u001b[0;34m\u001b[0m\u001b[0;34m\u001b[0m\u001b[0m\n\u001b[0m\u001b[1;32m    765\u001b[0m     \u001b[0;32melse\u001b[0m\u001b[0;34m:\u001b[0m\u001b[0;34m\u001b[0m\u001b[0;34m\u001b[0m\u001b[0m\n\u001b[1;32m    766\u001b[0m         \u001b[0mpattern\u001b[0m \u001b[0;34m=\u001b[0m \u001b[0;32mNone\u001b[0m\u001b[0;34m\u001b[0m\u001b[0;34m\u001b[0m\u001b[0m\n",
      "\u001b[0;32m//anaconda3/lib/python3.7/sre_parse.py\u001b[0m in \u001b[0;36mparse\u001b[0;34m(str, flags, pattern)\u001b[0m\n\u001b[1;32m    928\u001b[0m \u001b[0;34m\u001b[0m\u001b[0m\n\u001b[1;32m    929\u001b[0m     \u001b[0;32mtry\u001b[0m\u001b[0;34m:\u001b[0m\u001b[0;34m\u001b[0m\u001b[0;34m\u001b[0m\u001b[0m\n\u001b[0;32m--> 930\u001b[0;31m         \u001b[0mp\u001b[0m \u001b[0;34m=\u001b[0m \u001b[0m_parse_sub\u001b[0m\u001b[0;34m(\u001b[0m\u001b[0msource\u001b[0m\u001b[0;34m,\u001b[0m \u001b[0mpattern\u001b[0m\u001b[0;34m,\u001b[0m \u001b[0mflags\u001b[0m \u001b[0;34m&\u001b[0m \u001b[0mSRE_FLAG_VERBOSE\u001b[0m\u001b[0;34m,\u001b[0m \u001b[0;36m0\u001b[0m\u001b[0;34m)\u001b[0m\u001b[0;34m\u001b[0m\u001b[0;34m\u001b[0m\u001b[0m\n\u001b[0m\u001b[1;32m    931\u001b[0m     \u001b[0;32mexcept\u001b[0m \u001b[0mVerbose\u001b[0m\u001b[0;34m:\u001b[0m\u001b[0;34m\u001b[0m\u001b[0;34m\u001b[0m\u001b[0m\n\u001b[1;32m    932\u001b[0m         \u001b[0;31m# the VERBOSE flag was switched on inside the pattern.  to be\u001b[0m\u001b[0;34m\u001b[0m\u001b[0;34m\u001b[0m\u001b[0;34m\u001b[0m\u001b[0m\n",
      "\u001b[0;32m//anaconda3/lib/python3.7/sre_parse.py\u001b[0m in \u001b[0;36m_parse_sub\u001b[0;34m(source, state, verbose, nested)\u001b[0m\n\u001b[1;32m    424\u001b[0m     \u001b[0;32mwhile\u001b[0m \u001b[0;32mTrue\u001b[0m\u001b[0;34m:\u001b[0m\u001b[0;34m\u001b[0m\u001b[0;34m\u001b[0m\u001b[0m\n\u001b[1;32m    425\u001b[0m         itemsappend(_parse(source, state, verbose, nested + 1,\n\u001b[0;32m--> 426\u001b[0;31m                            not nested and not items))\n\u001b[0m\u001b[1;32m    427\u001b[0m         \u001b[0;32mif\u001b[0m \u001b[0;32mnot\u001b[0m \u001b[0msourcematch\u001b[0m\u001b[0;34m(\u001b[0m\u001b[0;34m\"|\"\u001b[0m\u001b[0;34m)\u001b[0m\u001b[0;34m:\u001b[0m\u001b[0;34m\u001b[0m\u001b[0;34m\u001b[0m\u001b[0m\n\u001b[1;32m    428\u001b[0m             \u001b[0;32mbreak\u001b[0m\u001b[0;34m\u001b[0m\u001b[0;34m\u001b[0m\u001b[0m\n",
      "\u001b[0;32m//anaconda3/lib/python3.7/sre_parse.py\u001b[0m in \u001b[0;36m_parse\u001b[0;34m(source, state, verbose, nested, first)\u001b[0m\n\u001b[1;32m    814\u001b[0m             sub_verbose = ((verbose or (add_flags & SRE_FLAG_VERBOSE)) and\n\u001b[1;32m    815\u001b[0m                            not (del_flags & SRE_FLAG_VERBOSE))\n\u001b[0;32m--> 816\u001b[0;31m             \u001b[0mp\u001b[0m \u001b[0;34m=\u001b[0m \u001b[0m_parse_sub\u001b[0m\u001b[0;34m(\u001b[0m\u001b[0msource\u001b[0m\u001b[0;34m,\u001b[0m \u001b[0mstate\u001b[0m\u001b[0;34m,\u001b[0m \u001b[0msub_verbose\u001b[0m\u001b[0;34m,\u001b[0m \u001b[0mnested\u001b[0m \u001b[0;34m+\u001b[0m \u001b[0;36m1\u001b[0m\u001b[0;34m)\u001b[0m\u001b[0;34m\u001b[0m\u001b[0;34m\u001b[0m\u001b[0m\n\u001b[0m\u001b[1;32m    817\u001b[0m             \u001b[0;32mif\u001b[0m \u001b[0;32mnot\u001b[0m \u001b[0msource\u001b[0m\u001b[0;34m.\u001b[0m\u001b[0mmatch\u001b[0m\u001b[0;34m(\u001b[0m\u001b[0;34m\")\"\u001b[0m\u001b[0;34m)\u001b[0m\u001b[0;34m:\u001b[0m\u001b[0;34m\u001b[0m\u001b[0;34m\u001b[0m\u001b[0m\n\u001b[1;32m    818\u001b[0m                 raise source.error(\"missing ), unterminated subpattern\",\n",
      "\u001b[0;32m//anaconda3/lib/python3.7/sre_parse.py\u001b[0m in \u001b[0;36m_parse_sub\u001b[0;34m(source, state, verbose, nested)\u001b[0m\n\u001b[1;32m    424\u001b[0m     \u001b[0;32mwhile\u001b[0m \u001b[0;32mTrue\u001b[0m\u001b[0;34m:\u001b[0m\u001b[0;34m\u001b[0m\u001b[0;34m\u001b[0m\u001b[0m\n\u001b[1;32m    425\u001b[0m         itemsappend(_parse(source, state, verbose, nested + 1,\n\u001b[0;32m--> 426\u001b[0;31m                            not nested and not items))\n\u001b[0m\u001b[1;32m    427\u001b[0m         \u001b[0;32mif\u001b[0m \u001b[0;32mnot\u001b[0m \u001b[0msourcematch\u001b[0m\u001b[0;34m(\u001b[0m\u001b[0;34m\"|\"\u001b[0m\u001b[0;34m)\u001b[0m\u001b[0;34m:\u001b[0m\u001b[0;34m\u001b[0m\u001b[0;34m\u001b[0m\u001b[0m\n\u001b[1;32m    428\u001b[0m             \u001b[0;32mbreak\u001b[0m\u001b[0;34m\u001b[0m\u001b[0;34m\u001b[0m\u001b[0m\n",
      "\u001b[0;32m//anaconda3/lib/python3.7/sre_parse.py\u001b[0m in \u001b[0;36m_parse\u001b[0;34m(source, state, verbose, nested, first)\u001b[0m\n\u001b[1;32m    649\u001b[0m             \u001b[0;32mif\u001b[0m \u001b[0;32mnot\u001b[0m \u001b[0mitem\u001b[0m \u001b[0;32mor\u001b[0m \u001b[0mitem\u001b[0m\u001b[0;34m[\u001b[0m\u001b[0;36m0\u001b[0m\u001b[0;34m]\u001b[0m\u001b[0;34m[\u001b[0m\u001b[0;36m0\u001b[0m\u001b[0;34m]\u001b[0m \u001b[0;32mis\u001b[0m \u001b[0mAT\u001b[0m\u001b[0;34m:\u001b[0m\u001b[0;34m\u001b[0m\u001b[0;34m\u001b[0m\u001b[0m\n\u001b[1;32m    650\u001b[0m                 raise source.error(\"nothing to repeat\",\n\u001b[0;32m--> 651\u001b[0;31m                                    source.tell() - here + len(this))\n\u001b[0m\u001b[1;32m    652\u001b[0m             \u001b[0;32mif\u001b[0m \u001b[0mitem\u001b[0m\u001b[0;34m[\u001b[0m\u001b[0;36m0\u001b[0m\u001b[0;34m]\u001b[0m\u001b[0;34m[\u001b[0m\u001b[0;36m0\u001b[0m\u001b[0;34m]\u001b[0m \u001b[0;32min\u001b[0m \u001b[0m_REPEATCODES\u001b[0m\u001b[0;34m:\u001b[0m\u001b[0;34m\u001b[0m\u001b[0;34m\u001b[0m\u001b[0m\n\u001b[1;32m    653\u001b[0m                 raise source.error(\"multiple repeat\",\n",
      "\u001b[0;31merror\u001b[0m: nothing to repeat at position 14316 (line 19, column 4117)"
     ]
    }
   ],
   "source": [
    "html = __WEBSITEHTML__[0]\n",
    "current = __LEGALWEBSITES__[0]\n",
    "__BROWSER__.get(current)\n",
    "\n",
    "fillOutInformation(html, __TESTING_FNAME__, __TESTING_LNAME__, __TESTING_MNAME__, __TESTING_DOB__)"
   ]
  },
  {
   "cell_type": "code",
   "execution_count": 144,
   "metadata": {
    "scrolled": true
   },
   "outputs": [
    {
     "name": "stdout",
     "output_type": "stream",
     "text": [
      "<html lang=\"en\" style=\"\" class=\" js flexbox flexboxlegacy canvas canvastext webgl no-touch geolocation postmessage websqldatabase indexeddb hashchange history draganddrop websockets rgba hsla multiplebgs backgroundsize borderimage borderradius boxshadow textshadow opacity cssanimations csscolumns cssgradients cssreflections csstransforms csstransforms3d csstransitions fontface generatedcontent video audio localstorage sessionstorage webworkers applicationcache svg inlinesvg smil svgclippaths\"><head><style id=\"react-tooltip\">.__react_component_tooltip{border-radius:3px;display:inline-block;font-size:13px;left:-999em;opacity:0;padding:8px 21px;position:fixed;pointer-events:none;transition:opacity 0.3s ease-out;top:-999em;visibility:hidden;z-index:999}.__react_component_tooltip.allow_hover,.__react_component_tooltip.allow_click{pointer-events:auto}.__react_component_tooltip:before,.__react_component_tooltip:after{content:\"\";width:0;height:0;position:absolute}.__react_component_tooltip.show{opacity:0.9;margin-top:0px;margin-left:0px;visibility:visible}.__react_component_tooltip.type-dark{color:#fff;background-color:#222}.__react_component_tooltip.type-dark.place-top:after{border-top-color:#222;border-top-style:solid;border-top-width:6px}.__react_component_tooltip.type-dark.place-bottom:after{border-bottom-color:#222;border-bottom-style:solid;border-bottom-width:6px}.__react_component_tooltip.type-dark.place-left:after{border-left-color:#222;border-left-style:solid;border-left-width:6px}.__react_component_tooltip.type-dark.place-right:after{border-right-color:#222;border-right-style:solid;border-right-width:6px}.__react_component_tooltip.type-dark.border{border:1px solid #fff}.__react_component_tooltip.type-dark.border.place-top:before{border-top:8px solid #fff}.__react_component_tooltip.type-dark.border.place-bottom:before{border-bottom:8px solid #fff}.__react_component_tooltip.type-dark.border.place-left:before{border-left:8px solid #fff}.__react_component_tooltip.type-dark.border.place-right:before{border-right:8px solid #fff}.__react_component_tooltip.type-success{color:#fff;background-color:#8DC572}.__react_component_tooltip.type-success.place-top:after{border-top-color:#8DC572;border-top-style:solid;border-top-width:6px}.__react_component_tooltip.type-success.place-bottom:after{border-bottom-color:#8DC572;border-bottom-style:solid;border-bottom-width:6px}.__react_component_tooltip.type-success.place-left:after{border-left-color:#8DC572;border-left-style:solid;border-left-width:6px}.__react_component_tooltip.type-success.place-right:after{border-right-color:#8DC572;border-right-style:solid;border-right-width:6px}.__react_component_tooltip.type-success.border{border:1px solid #fff}.__react_component_tooltip.type-success.border.place-top:before{border-top:8px solid #fff}.__react_component_tooltip.type-success.border.place-bottom:before{border-bottom:8px solid #fff}.__react_component_tooltip.type-success.border.place-left:before{border-left:8px solid #fff}.__react_component_tooltip.type-success.border.place-right:before{border-right:8px solid #fff}.__react_component_tooltip.type-warning{color:#fff;background-color:#F0AD4E}.__react_component_tooltip.type-warning.place-top:after{border-top-color:#F0AD4E;border-top-style:solid;border-top-width:6px}.__react_component_tooltip.type-warning.place-bottom:after{border-bottom-color:#F0AD4E;border-bottom-style:solid;border-bottom-width:6px}.__react_component_tooltip.type-warning.place-left:after{border-left-color:#F0AD4E;border-left-style:solid;border-left-width:6px}.__react_component_tooltip.type-warning.place-right:after{border-right-color:#F0AD4E;border-right-style:solid;border-right-width:6px}.__react_component_tooltip.type-warning.border{border:1px solid #fff}.__react_component_tooltip.type-warning.border.place-top:before{border-top:8px solid #fff}.__react_component_tooltip.type-warning.border.place-bottom:before{border-bottom:8px solid #fff}.__react_component_tooltip.type-warning.border.place-left:before{border-left:8px solid #fff}.__react_component_tooltip.type-warning.border.place-right:before{border-right:8px solid #fff}.__react_component_tooltip.type-error{color:#fff;background-color:#BE6464}.__react_component_tooltip.type-error.place-top:after{border-top-color:#BE6464;border-top-style:solid;border-top-width:6px}.__react_component_tooltip.type-error.place-bottom:after{border-bottom-color:#BE6464;border-bottom-style:solid;border-bottom-width:6px}.__react_component_tooltip.type-error.place-left:after{border-left-color:#BE6464;border-left-style:solid;border-left-width:6px}.__react_component_tooltip.type-error.place-right:after{border-right-color:#BE6464;border-right-style:solid;border-right-width:6px}.__react_component_tooltip.type-error.border{border:1px solid #fff}.__react_component_tooltip.type-error.border.place-top:before{border-top:8px solid #fff}.__react_component_tooltip.type-error.border.place-bottom:before{border-bottom:8px solid #fff}.__react_component_tooltip.type-error.border.place-left:before{border-left:8px solid #fff}.__react_component_tooltip.type-error.border.place-right:before{border-right:8px solid #fff}.__react_component_tooltip.type-info{color:#fff;background-color:#337AB7}.__react_component_tooltip.type-info.place-top:after{border-top-color:#337AB7;border-top-style:solid;border-top-width:6px}.__react_component_tooltip.type-info.place-bottom:after{border-bottom-color:#337AB7;border-bottom-style:solid;border-bottom-width:6px}.__react_component_tooltip.type-info.place-left:after{border-left-color:#337AB7;border-left-style:solid;border-left-width:6px}.__react_component_tooltip.type-info.place-right:after{border-right-color:#337AB7;border-right-style:solid;border-right-width:6px}.__react_component_tooltip.type-info.border{border:1px solid #fff}.__react_component_tooltip.type-info.border.place-top:before{border-top:8px solid #fff}.__react_component_tooltip.type-info.border.place-bottom:before{border-bottom:8px solid #fff}.__react_component_tooltip.type-info.border.place-left:before{border-left:8px solid #fff}.__react_component_tooltip.type-info.border.place-right:before{border-right:8px solid #fff}.__react_component_tooltip.type-light{color:#222;background-color:#fff}.__react_component_tooltip.type-light.place-top:after{border-top-color:#fff;border-top-style:solid;border-top-width:6px}.__react_component_tooltip.type-light.place-bottom:after{border-bottom-color:#fff;border-bottom-style:solid;border-bottom-width:6px}.__react_component_tooltip.type-light.place-left:after{border-left-color:#fff;border-left-style:solid;border-left-width:6px}.__react_component_tooltip.type-light.place-right:after{border-right-color:#fff;border-right-style:solid;border-right-width:6px}.__react_component_tooltip.type-light.border{border:1px solid #222}.__react_component_tooltip.type-light.border.place-top:before{border-top:8px solid #222}.__react_component_tooltip.type-light.border.place-bottom:before{border-bottom:8px solid #222}.__react_component_tooltip.type-light.border.place-left:before{border-left:8px solid #222}.__react_component_tooltip.type-light.border.place-right:before{border-right:8px solid #222}.__react_component_tooltip.place-top{margin-top:-10px}.__react_component_tooltip.place-top:before{border-left:10px solid transparent;border-right:10px solid transparent;bottom:-8px;left:50%;margin-left:-10px}.__react_component_tooltip.place-top:after{border-left:8px solid transparent;border-right:8px solid transparent;bottom:-6px;left:50%;margin-left:-8px}.__react_component_tooltip.place-bottom{margin-top:10px}.__react_component_tooltip.place-bottom:before{border-left:10px solid transparent;border-right:10px solid transparent;top:-8px;left:50%;margin-left:-10px}.__react_component_tooltip.place-bottom:after{border-left:8px solid transparent;border-right:8px solid transparent;top:-6px;left:50%;margin-left:-8px}.__react_component_tooltip.place-left{margin-left:-10px}.__react_component_tooltip.place-left:before{border-top:6px solid transparent;border-bottom:6px solid transparent;right:-8px;top:50%;margin-top:-5px}.__react_component_tooltip.place-left:after{border-top:5px solid transparent;border-bottom:5px solid transparent;right:-6px;top:50%;margin-top:-4px}.__react_component_tooltip.place-right{margin-left:10px}.__react_component_tooltip.place-right:before{border-top:6px solid transparent;border-bottom:6px solid transparent;left:-8px;top:50%;margin-top:-5px}.__react_component_tooltip.place-right:after{border-top:5px solid transparent;border-bottom:5px solid transparent;left:-6px;top:50%;margin-top:-4px}.__react_component_tooltip .multi-line{display:block;padding:2px 0px;text-align:center}</style><meta class=\"foundation-mq-small\"><meta class=\"foundation-mq-small-only\"><meta class=\"foundation-mq-medium\"><meta class=\"foundation-mq-medium-only\"><meta class=\"foundation-mq-large\"><meta class=\"foundation-mq-large-only\"><meta class=\"foundation-mq-xlarge\"><meta class=\"foundation-mq-xlarge-only\"><meta class=\"foundation-mq-xxlarge\"><meta class=\"foundation-data-attribute-namespace\">\n",
      "    <meta charset=\"utf-8\">\n",
      "    <meta content=\"width=device-width, initial-scale=1.0\" name=\"viewport\">\n",
      "    <title>Case search</title>\n",
      "\n",
      "    <link href=\"/versionedResource/5b061d7/stylesheets/wcca.css\" media=\"all\" type=\"text/css\" rel=\"stylesheet\">\n",
      "    <link href=\"/versionedResource/5b061d7/webjars/foundation-icon-fonts/d596a3cfb3/foundation-icons.css\" rel=\"stylesheet\">\n",
      "    <link href=\"/versionedResource/5b061d7/favicon.ico\" sizes=\"16x16\" rel=\"icon\">\n",
      "    <link href=\"/versionedResource/5b061d7/classpath/common/images/lady-justice.png\" sizes=\"203x203\" rel=\"icon\">\n",
      "    <script src=\"https://www.googletagmanager.com/gtag/js\" async=\"\"></script>\n",
      "    <script src=\"/versionedResource/5b061d7/webjars/modernizr/2.8.3/modernizr.js\"></script>\n",
      "    <script src=\"/versionedResource/5b061d7/js/commons.packed.js\"></script>\n",
      "    <script src=\"/versionedResource/5b061d7/js/default.packed.js\"></script><style></style>\n",
      "  \n",
      "\t\n",
      "</head>\n",
      "<body data-lift-gc=\"F402538990052RGMNQB\">\n",
      "\n",
      "    <div id=\"reactContent\"><div><div id=\"home-container\"><div id=\"skip\"><a href=\"#main-content\">Skip to main content.</a></div><div id=\"topBar\" class=\"nav\"><header class=\"v-flex\"><div class=\"row\"><a href=\"/case.html\"><img src=\"/classpath/common/images/lady-justice.png\" alt=\"\"><h1>Wisconsin Circuit Court Access</h1></a></div><div class=\"menus\"><div class=\"row\"><ul class=\"flex menu\"><div class=\"menu-group-1\"><li class=\"menu-item\"><a href=\"#\">Search <i class=\"fa fa-caret-down\" aria-hidden=\"true\"></i></a><ul class=\"submenu\"><li class=\"submenu-item\"><a href=\"case.html\">Simple</a></li><li class=\"submenu-item\"><a href=\"advanced.html\">Advanced</a></li><li class=\"submenu-item\"><a href=\"judgment.html\">Judgment</a></li></ul></li><li class=\"menu-item\"><a href=\"#\">Calendar <i class=\"fa fa-caret-down\" aria-hidden=\"true\"></i></a><ul class=\"submenu\"><li class=\"submenu-item\"><a href=\"attorneyCalendar.html\">Attorney</a></li><li class=\"submenu-item\"><a href=\"courtOfficialCalendar.html\">Court</a></li><li class=\"submenu-item\"><a href=\"lawEnforcementCalendar.html\">Law enforcement</a></li></ul></li><li class=\"menu-item noexpand\"><a href=\"payOnline.html\">Pay fees</a><ul class=\"submenu\"><li class=\"submenu-item\"><a href=\"payOnline.html\">Fee/fine search</a></li></ul></li><li class=\"menu-item\"><a href=\"#\">Reports <i class=\"fa fa-caret-down\" aria-hidden=\"true\"></i></a><ul class=\"submenu\"><li class=\"submenu-item\"><a href=\"jdgmtReport.html?searchBy=eventDate\">Civil judgment events</a></li><li class=\"submenu-item\"><a href=\"jdgmtReport.html?searchBy=dateDkted\">Docketed civil judgments by docket date</a></li><li class=\"submenu-item\"><a href=\"jdgmtReport.html?searchBy=jdgmtDate\">Docketed civil judgments by judgment date</a></li></ul></li><li class=\"menu-item\"><a href=\"#\">Help <i class=\"fa fa-caret-down\" aria-hidden=\"true\"></i></a><ul class=\"submenu\"><li class=\"submenu-item\"><a href=\"site.html\">Site help</a></li><li class=\"submenu-item\"><a href=\"faq.html\">Frequently asked questions</a></li><li class=\"submenu-item\"><a href=\"links.html\">Links</a></li><li class=\"submenu-item\"><a href=\"captcha-help.html\">CAPTCHA help</a></li></ul></li></div><div class=\"menu-group-2\"><li class=\"menu-item\"></li><li class=\"menu-item\"><a href=\"payFees\">View payments (0 items)</a></li><li id=\"mobile-menu\" class=\"menu-item\"><a><i class=\"fa fa-bars\" aria-hidden=\"true\"></i> Menu</a></li></div></ul></div></div><div class=\"bottom-border\"></div></header><div role=\"alert\" class=\"severe-error\"><div></div></div></div><main class=\"row main-content\"><div><h2>Case search</h2><form><p><a href=\"changes2018\">Click here</a> to learn about recent changes to WCCA case display and criminal charge modifier information.</p><div></div><div><div class=\"__react_component_tooltip place-right type-dark \" id=\"partyTooltip\" data-id=\"tooltip\"><span class=\"ccap-tooltip\"><span>Enter a complete last name and a complete first name. <br> To search for partial names, enter the first 3 or more consecutive letters <br> of the name and the asterisk (*) character. Example: THO* MICH*</span></span></div><div class=\"__react_component_tooltip place-right type-dark \" id=\"businessTooltip\" data-id=\"tooltip\"><span class=\"ccap-tooltip\"><span>Enter the first 3 or more consecutive letters of the business name or alias as they appear in the case. <br> For example, if the business is listed on the case with ACME WIDGET Co. as a party name, <br> then valid search phrases include \"ACM\", \"ACME\", and \"ACME WIDGET\".</span></span></div><div class=\"row\"><div class=\"columns large-12 end\"><fieldset class=\"partyName\"><legend class=\"visible-for-large-up\" for=\"lastName\">Party name<i data-tip=\"true\" data-for=\"partyTooltip\" class=\"fi-info helpIcon\" currentitem=\"false\"></i></legend><div class=\"row\"><div class=\"columns large-4\"><div><span class=\"show-for-sr\" aria-live=\"assertive\" aria-atomic=\"true\"></span><label>Last name<input aria-invalid=\"false\" name=\"lastName\" id=\"lastName\" type=\"text\" value=\"\"><small id=\"LabeledInput_error_1\" aria-hidden=\"true\"></small></label></div></div><div class=\"columns large-4\"><div><span class=\"show-for-sr\" aria-live=\"assertive\" aria-atomic=\"true\"></span><label>First name<input aria-invalid=\"false\" name=\"firstName\" type=\"text\" value=\"\"><small id=\"LabeledInput_error_2\" aria-hidden=\"true\"></small></label></div></div><div class=\"columns large-4 end\"><div><span class=\"show-for-sr\" aria-live=\"assertive\" aria-atomic=\"true\"></span><label>Middle name<input aria-invalid=\"false\" name=\"middleName\" type=\"text\" value=\"\"><small id=\"LabeledInput_error_3\" aria-hidden=\"true\"></small></label></div></div></div><div class=\"row\"><div class=\"includeNoMiddleName columns large-12 end\"><div><span class=\"show-for-sr\" aria-live=\"assertive\" aria-atomic=\"true\"></span><label><div class=\"row\"><input aria-invalid=\"false\" name=\"includeMissingMiddleName\" type=\"checkbox\" value=\"true\">When searching using a middle name, also show parties without a middle name.</div><small id=\"LabeledInput_error_4\" aria-hidden=\"true\"></small></label></div></div></div></fieldset></div></div><div class=\"row\"><div class=\"columns large-3 end\"><div><span class=\"show-for-sr\" aria-live=\"assertive\" aria-atomic=\"true\"></span><label>Birth date<div><div class=\"date-picker row collapse\"><div id=\"DatePicker_format_6\" style=\"display: none;\">This is an example of the expected date format: one two hyphen three one hyphen two zero one six.</div><div class=\"columns small-10\"><div><div class=\"react-datepicker-wrapper\"><div class=\"react-datepicker__input-container\"><input aria-describedby=\"DatePicker_format_6 undefined\" type=\"text\" name=\"dateOfBirth\" placeholder=\"MM-DD-YYYY\" autocomplete=\"off\" class=\"\" value=\"\"></div></div></div></div><div class=\"columns small-2\"><button type=\"button\" class=\"postfix datepicker-calendar-button\" aria-hidden=\"true\" tabindex=\"-1\"><i class=\"fa fa-calendar large-icon\"></i></button></div></div></div><small id=\"LabeledInput_error_5\" aria-hidden=\"true\"></small></label></div></div></div><div class=\"row\"><div class=\"columns large-9 end\"><div><span class=\"show-for-sr\" aria-live=\"assertive\" aria-atomic=\"true\"></span><label><div class=\"row\"><input aria-invalid=\"false\" name=\"includeMissingDob\" type=\"checkbox\" value=\"true\">When searching using a birth date, also show parties without a birth date.</div><small id=\"LabeledInput_error_7\" aria-hidden=\"true\"></small></label></div></div></div><div class=\"row businessName\"><div class=\"columns large-5 end\"><div><span class=\"show-for-sr\" aria-live=\"assertive\" aria-atomic=\"true\"></span><label>Business name<i data-tip=\"true\" data-for=\"businessTooltip\" class=\"fi-info helpIcon\" currentitem=\"false\"></i><input aria-invalid=\"false\" name=\"businessName\" type=\"text\" value=\"\"><small id=\"LabeledInput_error_8\" aria-hidden=\"true\"></small></label></div></div></div></div><div class=\"row\"><div class=\"columns large-3\"><div><span class=\"show-for-sr\" aria-live=\"assertive\" aria-atomic=\"true\"></span><label>County<div class=\"Select is-clearable is-searchable Select--single\"><div class=\"Select-control\"><span class=\"Select-multi-value-wrapper\" id=\"react-select-2--value\"><div class=\"Select-placeholder\">Statewide</div><div class=\"Select-input\" style=\"display: inline-block;\"><input aria-activedescendant=\"react-select-2--value\" aria-expanded=\"false\" aria-haspopup=\"false\" aria-owns=\"\" class=\"Select-input\" role=\"combobox\" value=\"\"></div></span><span class=\"Select-arrow-zone\"><span class=\"Select-arrow\"></span></span></div></div><small id=\"LabeledInput_error_9\" aria-hidden=\"true\"></small></label></div></div><div><div class=\"__react_component_tooltip place-top type-dark \" id=\"caseTooltip\" data-id=\"tooltip\"><span class=\"ccap-tooltip\">Example: Type 02cf1 for case 2002CF000001</span></div><div class=\"columns large-3 end\"><div><span class=\"show-for-sr\" aria-live=\"assertive\" aria-atomic=\"true\"></span><label>Case number<i data-tip=\"true\" data-for=\"caseTooltip\" class=\"fi-info helpIcon\" currentitem=\"false\"></i><input aria-invalid=\"false\" name=\"caseNo\" type=\"text\" value=\"\"><small id=\"LabeledInput_error_10\" aria-hidden=\"true\"></small></label></div></div></div></div><div class=\"row\"><div class=\"columns large-12 end\"><button name=\"search\" type=\"submit\" class=\"button button-spinner\" disabled=\"\">Search</button><button type=\"button\" class=\"button secondary\" disabled=\"\">Reset</button></div></div></form></div></main><footer><div class=\"footerLinks\"><div class=\"row\"><p>Technical problems? <a href=\"contactUs.html\">Contact us</a>.</p><p style=\"margin-left: auto;\"><a href=\"/disclosures.html\">Notices and disclosures</a> | <a href=\"/policy.html\">Public records on the internet</a> | <a href=\"/rest-help.html\">Data extraction option</a> | <a href=\"/rss-help.html\">RSS</a></p></div></div></footer></div><div class=\"multi-modals-dock\"></div><div></div></div></div>\n",
      "\n",
      "    <script type=\"text/javascript\">\n",
      "      // Foundation JavaScript\n",
      "      // Documentation can be found at: http://foundation.zurb.com/docs\n",
      "      $(document).foundation();\n",
      "    </script>\n",
      "    \n",
      "    <script src=\"/versionedResource/5b061d7/js/index.packed.js\"></script>\n",
      "  \n",
      "\n",
      "\n",
      "\t\n",
      "\n",
      "  \n",
      "  </body></html>\n"
     ]
    }
   ],
   "source": [
    "print(__WEBSITEHTML__[0])\n",
    "\n",
    "# Finding where to enter date of birth\n",
    "# name=\\\"[^\\\"]*[Dd]o[Bb](irth)?[^\\\"]*\n",
    "\n",
    "# Finding format for Date of Birth\n",
    "# [Mm]+.[Dd]+.[Yy]+"
   ]
  },
  {
   "cell_type": "markdown",
   "metadata": {},
   "source": [
    "# ToDo\n",
    "- Finish setting up date input\n",
    "\n",
    "# Completed\n",
    "- Input for f/m/l name"
   ]
  },
  {
   "cell_type": "code",
   "execution_count": null,
   "metadata": {},
   "outputs": [],
   "source": []
  }
 ],
 "metadata": {
  "kernelspec": {
   "display_name": "Python 3",
   "language": "python",
   "name": "python3"
  },
  "language_info": {
   "codemirror_mode": {
    "name": "ipython",
    "version": 3
   },
   "file_extension": ".py",
   "mimetype": "text/x-python",
   "name": "python",
   "nbconvert_exporter": "python",
   "pygments_lexer": "ipython3",
   "version": "3.7.3"
  }
 },
 "nbformat": 4,
 "nbformat_minor": 2
}
