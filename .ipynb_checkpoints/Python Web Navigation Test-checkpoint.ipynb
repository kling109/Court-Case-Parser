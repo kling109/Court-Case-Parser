{
 "cells": [
  {
   "cell_type": "markdown",
   "metadata": {},
   "source": [
    "<center> <h1> Python Web Navigation </center> </h1>\n",
    "<center> <h3> HireRite Grand Challege </center> </h3>\n",
    "<center> <h5> Matt Raymond </center> </h5>"
   ]
  },
  {
   "cell_type": "markdown",
   "metadata": {},
   "source": [
    "# Imports"
   ]
  },
  {
   "cell_type": "code",
   "execution_count": 39,
   "metadata": {},
   "outputs": [],
   "source": [
    "# Web driver for comtroling chrome\n",
    "from selenium import webdriver\n",
    "\n",
    "# Regex for parsing website navigation\n",
    "import re as regx\n",
    "\n",
    "# Thread sleeping\n",
    "from time import sleep\n",
    "\n",
    "# Import for dates\n",
    "from datetime import datetime\n",
    "\n",
    "# Import keys so we can press enter\n",
    "from selenium.webdriver.common.keys import Keys\n",
    "\n",
    "from selenium.webdriver.support.ui import WebDriverWait\n",
    "\n",
    "from selenium.webdriver.support import expected_conditions as EC\n",
    "from selenium.webdriver.common.by import By\n",
    "from selenium.common.exceptions import TimeoutException"
   ]
  },
  {
   "cell_type": "markdown",
   "metadata": {},
   "source": [
    "# Browser"
   ]
  },
  {
   "cell_type": "code",
   "execution_count": 40,
   "metadata": {},
   "outputs": [],
   "source": [
    "# Sets of the path of the chrome driver\n",
    "# ToDO: Fix the chrome driver path so it doesn't need to be set automatically inside python\n",
    "__BROWSER__ = webdriver.Chrome(executable_path='/Users/matthewraymond/chromedriver')\n",
    "\n",
    "# Set the implicit wait time so that webpages don't flip out when they can't fontrol things right away\n",
    "__BROWSER__.implicitly_wait(5)"
   ]
  },
  {
   "cell_type": "markdown",
   "metadata": {},
   "source": [
    "# Global Testing Variables"
   ]
  },
  {
   "cell_type": "code",
   "execution_count": 41,
   "metadata": {},
   "outputs": [],
   "source": [
    "# The websites that we're supposed to use\n",
    "__TESTINGWEBSITES__ = [\"https://www.sccourts.org/casesearch/\", # agreement says no crawlers\n",
    "                       \"https://wcca.wicourts.gov/case.html\",\n",
    "                       \"https://www.oscn.net/dockets/search.aspx\",\n",
    "                       \"https://www.civitekflorida.com/ocrs/county/\", # recapcha\n",
    "                       \"https://apps.supremecourt.az.gov/publicaccess/caselookup.aspx\", # captcha\n",
    "                       \"https://www.superiorcourt.maricopa.gov/docket/CriminalCourtCases/caseSearch.asp\",\n",
    "                       \"http://justicecourts.maricopa.gov/FindACase/casehistory.aspx\",\n",
    "                       \"https://casesearch.epcounty.com/PublicAccess/default.aspx\"]\n",
    "\n",
    "# the websites that are actually LEGAL to use\n",
    "__LEGALWEBSITES__ = __TESTINGWEBSITES__[1:3] + __TESTINGWEBSITES__[-3:]\n",
    "\n",
    "# Testing variables for name and date of birth\n",
    "__TESTING_FNAME__ = \"John\"\n",
    "__TESTING_LNAME__ = \"Smith\"\n",
    "__TESTING_MNAME__ = \"Herbert\"\n",
    "\n",
    "__TESTING_DOB__ = datetime(2001, 9, 11)"
   ]
  },
  {
   "cell_type": "code",
   "execution_count": 42,
   "metadata": {},
   "outputs": [],
   "source": [
    "# Removes one of the legal websites because there's extra navigation and I don't want to deal with that right now\n",
    "__LEGALWEBSITES__ = __LEGALWEBSITES__[:-1]"
   ]
  },
  {
   "cell_type": "markdown",
   "metadata": {},
   "source": [
    "# Regex"
   ]
  },
  {
   "cell_type": "code",
   "execution_count": 80,
   "metadata": {},
   "outputs": [],
   "source": [
    "# Regex for different searches\n",
    "__FIRSTNAME__ = \"=\\\"[^\\\"]*[Ff][A-Za-z]*[Nn]ame[A-Za-z]*\\\"\"\n",
    "__LASTNAME__ = \"=\\\"[^\\\"]*[Ll][A-Za-z]*[Nn]ame[A-Za-z]*\\\"\"\n",
    "__MIDDLENAME__ = \"=\\\"[^\\\"]*[Mm][A-Za-z]*[Nn]ame[A-Za-z]*\\\"\"\n",
    "__BIRTHDATE__ = \"=\\\"[^\\\"]*?(search)?[^\\\"]*d(ate)?of?b(irth)?[^\\\"^(search)]*?\\\"\"\n",
    "# \"=\\\"[^\\\"]*?(?!\\bre\\b)(search)[^\\\"]*?\\\"\"\n",
    "__DATEFORMAT__ = \"[MD\\d]{2}[./-][MD\\d]{2}[./-][Y\\d]{4}\"\n",
    "__REACTFORMAT__ = \"<div id=\\\"[^\\\"]*react[^\\\"]*\\\"><\\/div>\"\n",
    "__OTHER_LOADING_FORMAT__ = \"svgclippaths\\\">\\<head>\\<meta\"\n",
    "__SEARCHBUTTON__ = \"=\\\"[^\\\"]*?((?<!menu)(?<!re)(?<!box)search)[^\\\"]*?\\\"\"\n",
    "__CASELINK__ = \"(?<=href=\\\")([^\\\"]*((number)|(caseno))[^\\\"]*)(?=\\\")\""
   ]
  },
  {
   "cell_type": "markdown",
   "metadata": {},
   "source": [
    "# Function Declaration"
   ]
  },
  {
   "cell_type": "markdown",
   "metadata": {},
   "source": [
    "## Scraping Info from Webpage"
   ]
  },
  {
   "cell_type": "code",
   "execution_count": 59,
   "metadata": {},
   "outputs": [
    {
     "ename": "SyntaxError",
     "evalue": "invalid syntax (<ipython-input-59-ee7b69d521d7>, line 15)",
     "output_type": "error",
     "traceback": [
      "\u001b[0;36m  File \u001b[0;32m\"<ipython-input-59-ee7b69d521d7>\"\u001b[0;36m, line \u001b[0;32m15\u001b[0m\n\u001b[0;31m    return html = __BROWSER__.page_source\u001b[0m\n\u001b[0m                ^\u001b[0m\n\u001b[0;31mSyntaxError\u001b[0m\u001b[0;31m:\u001b[0m invalid syntax\n"
     ]
    }
   ],
   "source": [
    "# Scrape the HTML source from a webpage\n",
    "def getSource(strURL):\n",
    "    __BROWSER__.get(strURL)\n",
    "    print(\"Scraping website source code...\")\n",
    "    html = __BROWSER__.page_source\n",
    "    \n",
    "    return pauseforReact(html)\n",
    "\n",
    "def pauseforReact(html):\n",
    "    # Makes sure that webpages that use react are fully loaded before starting\n",
    "    while regx.search(__REACTFORMAT__, html, regx.IGNORECASE) is not None and regx.search(__OTHER_LOADING_FORMAT__, html, regx.IGNORECASE) is None:\n",
    "        sleep(1)\n",
    "        print(\"pause:1\")\n",
    "        html = __BROWSER__.page_source\n",
    "    return html = __BROWSER__.page_source\n",
    "\n",
    "# Search for the name of an element given a regex description\n",
    "def regSearchName(ws, re):\n",
    "    _result = regx.search(\"name\" + re, ws, regx.IGNORECASE)\n",
    "    if(_result is None):\n",
    "        return \"\";\n",
    "    else:\n",
    "        return _result[0][6:-1]\n",
    "\n",
    "# Search for the ID of an element given a regex description\n",
    "def regSearchID(ws, re):\n",
    "    _result = regx.search(\"id\" + re, ws, regx.IGNORECASE)\n",
    "    if(_result is None):\n",
    "        return \"\";\n",
    "    else:\n",
    "        return _result[0][4:-1]\n",
    "\n",
    "# Return a tuple of an elements ID and name given a regex description\n",
    "def getIDandName(ws, re):\n",
    "    return (regSearchID(ws, re), regSearchName(ws, re))"
   ]
  },
  {
   "cell_type": "markdown",
   "metadata": {},
   "source": [
    "## Input Filling"
   ]
  },
  {
   "cell_type": "code",
   "execution_count": 46,
   "metadata": {},
   "outputs": [],
   "source": [
    "# Fills out the person's name\n",
    "def fillOutName(html, fn, ln, mn):\n",
    "    # Finds the ID and Name for first, middle, and last names\n",
    "    fnID, fnName = getIDandName(html, __FIRSTNAME__)\n",
    "    mnID, mnName = getIDandName(html, __MIDDLENAME__)\n",
    "    lnID, lnName = getIDandName(html, __LASTNAME__)\n",
    "\n",
    "    sendInput(fnName, fn)\n",
    "    sendInput(mnName, mn)\n",
    "    sendInput(lnName, ln)\n",
    "\n",
    "# Send the input string (s) to the element (e) specified\n",
    "def sendInput(e, s):\n",
    "    try:\n",
    "        # Breaks out if there's no element sent\n",
    "        if str(e) is \"\":\n",
    "            return\n",
    "        \n",
    "        # Find the element based on the name and send input\n",
    "        item = __BROWSER__.find_element_by_name(e)\n",
    "        item.click()\n",
    "        item.clear()\n",
    "        item.send_keys(s)\n",
    "        \n",
    "    except:\n",
    "        print(\"Input failed. Attempted to enter \\\"{0}\\\" to \\\"{1}\\\" and failed.\".format(s, e))\n",
    "    \n",
    "# Fill out the date of birth\n",
    "# Returns a bool denoting whether it was successful or not\n",
    "def fillOutDOB(html, dob):\n",
    "    try:\n",
    "        # If there is a dob sent\n",
    "        if dob is not None:\n",
    "            dID, dName = getIDandName(html, __BIRTHDATE__)\n",
    "                        \n",
    "            # Sometimes need to send by id instead of name\n",
    "            # ToDo: Create function to try both name and id and return the result\n",
    "        \n",
    "            if dName is not \"\":\n",
    "                item = __BROWSER__.find_element_by_name(dName)\n",
    "            else:\n",
    "                item = __BROWSER__.find_element_by_id(dID)\n",
    "            \n",
    "            # If the item is locked then there's no poin in trying to edit it\n",
    "            if not item.is_enabled():\n",
    "                return False\n",
    "            \n",
    "            # Enter information\n",
    "            item.click()\n",
    "            item.clear()\n",
    "            \n",
    "            # Find the delimiter desired\n",
    "            _delin = findDateFormat(html)\n",
    "            \n",
    "            # Create a date based on the american standard, using the specified delimiters\n",
    "            _date = \"{1}{0}{2}{0}{3}\".format(_delin, str(dob.month).zfill(2), str(dob.day).zfill(2), dob.year)\n",
    "            \n",
    "            # Enter date\n",
    "            item.send_keys(_date)\n",
    "        return True\n",
    "    \n",
    "    except:\n",
    "        print(\"Input failed. Attempted to enter \\\"{0}\\\" as a date and failed.\".format(dob))\n",
    "        return False\n",
    "        \n",
    "# Find the delimiters used in the example (if one exists) and returns them\n",
    "def findDateFormat(html):\n",
    "    # Find the example\n",
    "    result = regx.search(__DATEFORMAT__, html, regx.IGNORECASE)\n",
    "    \n",
    "    # Return either the result or use a random one\n",
    "    if result is not None:\n",
    "        return result[0][2]\n",
    "    else:\n",
    "        return '-'\n",
    "\n",
    "# Initialize the search\n",
    "def search(html):\n",
    "    # Find the id/name of the elemnts\n",
    "    tempURL = __BROWSER__.current_url\n",
    "    fnID, fnName = getIDandName(html, __FIRSTNAME__)\n",
    "    __BROWSER__.find_element_by_name(fnName).send_keys(Keys.ENTER)\n",
    "    \n",
    "    if tempURL == __BROWSER__.current_url :\n",
    "        sID, sName = getIDandName(html, __SEARCHBUTTON__)\n",
    "\n",
    "        # If there is a search button within a reasonable distance\n",
    "        if sID is not \"\" or sName is not \"\":\n",
    "            # Click the button\n",
    "            item = __BROWSER__.find_element_by_name(sName)\n",
    "            item.click()\n",
    "    \n",
    "# Function that fills out all of the information given\n",
    "def fillOutInformation(html, fn, ln, mn = \"\", dob = None):\n",
    "    # NOTE: You have to fill them out in this order or sometimes\n",
    "    # the open date selector messes with the submission\n",
    "    \n",
    "    # Variable that checks whether the dob was filled out correctly\n",
    "    dobFilled = fillOutDOB(html, dob)\n",
    "    fillOutName(html, fn, ln, mn)\n",
    "    \n",
    "    # Sometimes the dob section is locked until you enter a name\n",
    "    if not dobFilled:\n",
    "        fillOutDOB(html, dob)\n",
    "        \n",
    "def formatURL(s):\n",
    "    return s.replace(\"&amp;\", \"&\")"
   ]
  },
  {
   "cell_type": "markdown",
   "metadata": {},
   "source": [
    "# Testing"
   ]
  },
  {
   "cell_type": "code",
   "execution_count": 47,
   "metadata": {
    "scrolled": true
   },
   "outputs": [
    {
     "name": "stdout",
     "output_type": "stream",
     "text": [
      "Scraping website source code...\n",
      "Scraping website source code...\n",
      "Scraping website source code...\n",
      "Scraping website source code...\n"
     ]
    }
   ],
   "source": [
    "# Variable that holds all of the website HTMLs so that I don't have to re-scraping it again and again\n",
    "__WEBSITEHTML__ = []\n",
    "\n",
    "# Scrape all\n",
    "for site in __LEGALWEBSITES__:\n",
    "    __WEBSITEHTML__.append(getSource(site))"
   ]
  },
  {
   "cell_type": "code",
   "execution_count": 48,
   "metadata": {},
   "outputs": [],
   "source": [
    "# Temp variable for the current website\n",
    "# Only for debugging purposes"
   ]
  },
  {
   "cell_type": "code",
   "execution_count": 49,
   "metadata": {},
   "outputs": [],
   "source": [
    "# Testing information filling out\n",
    "for i in range(0, 4):\n",
    "    # The html for the site currently being operated on\n",
    "    html = __WEBSITEHTML__[i]\n",
    "    # The actual website being operated on\n",
    "    current = __LEGALWEBSITES__[i]\n",
    "\n",
    "    # Load the website\n",
    "    __BROWSER__.get(current)\n",
    "    fillOutInformation(html, __TESTING_FNAME__, __TESTING_LNAME__, __TESTING_MNAME__, __TESTING_DOB__)\n",
    "\n",
    "    # NOTE: Currently being debugged\n",
    "    search(html)\n",
    "    sleep(2)"
   ]
  },
  {
   "cell_type": "code",
   "execution_count": 87,
   "metadata": {},
   "outputs": [],
   "source": [
    "def cycleThroughCases(currentURL):\n",
    "    while __BROWSER__.current_url == currentURL:\n",
    "        sleep(1)\n",
    "    \n",
    "    html = pauseforReact(__BROWSER__.page_source)\n",
    "    \n",
    "    results = list(regx.findall(__CASELINK__, html, regx.IGNORECASE))\n",
    "#     print(html)\n",
    "    currentURL = __BROWSER__.current_url\n",
    "#     print(results)\n",
    "    \n",
    "    isTuple = type(results[0]) is tuple\n",
    "\n",
    "    for r in results:\n",
    "        if isTuple:\n",
    "            r = r[0]\n",
    "        if \".css\" not in r:\n",
    "            print(\"Scraping {0} ...\".format(r))\n",
    "            __BROWSER__.find_element_by_xpath('//a[@href=\"'+formatURL(r)+'\"]').click()\n",
    "            sleep(2)\n",
    "            __BROWSER__.get(currentURL)\n",
    "            sleep(2)\n",
    "            \n",
    "            # Breaks for testing purposes\n",
    "            break"
   ]
  },
  {
   "cell_type": "code",
   "execution_count": 86,
   "metadata": {},
   "outputs": [
    {
     "name": "stdout",
     "output_type": "stream",
     "text": [
      "Scraping /FindACase/caseInfo.asp?caseNumber=0701TR0303695 ...\n"
     ]
    }
   ],
   "source": [
    "i=3\n",
    "# The html for the site currently being operated on\n",
    "html = __WEBSITEHTML__[i]\n",
    "# The actual website being operated on\n",
    "current = __LEGALWEBSITES__[i]\n",
    "\n",
    "# Load the website\n",
    "__BROWSER__.get(current)\n",
    "fillOutInformation(html, __TESTING_FNAME__, __TESTING_LNAME__, \"\", __TESTING_DOB__)\n",
    "\n",
    "# NOTE: Currently being debugged\n",
    "search(html)\n",
    "cycleThroughCases(current)"
   ]
  },
  {
   "cell_type": "code",
   "execution_count": 58,
   "metadata": {
    "collapsed": true
   },
   "outputs": [
    {
     "name": "stdout",
     "output_type": "stream",
     "text": [
      "<html lang=\"en\" style=\"\" class=\" js flexbox flexboxlegacy canvas canvastext webgl no-touch geolocation postmessage websqldatabase indexeddb hashchange history draganddrop websockets rgba hsla multiplebgs backgroundsize borderimage borderradius boxshadow textshadow opacity cssanimations csscolumns cssgradients cssreflections csstransforms csstransforms3d csstransitions fontface generatedcontent video audio localstorage sessionstorage webworkers applicationcache svg inlinesvg smil svgclippaths\"><head><meta class=\"foundation-mq-small\"><meta class=\"foundation-mq-small-only\"><meta class=\"foundation-mq-medium\"><meta class=\"foundation-mq-medium-only\"><meta class=\"foundation-mq-large\"><meta class=\"foundation-mq-large-only\"><meta class=\"foundation-mq-xlarge\"><meta class=\"foundation-mq-xlarge-only\"><meta class=\"foundation-mq-xxlarge\"><meta class=\"foundation-data-attribute-namespace\">\n",
      "    <meta charset=\"utf-8\">\n",
      "    <meta content=\"width=device-width, initial-scale=1.0\" name=\"viewport\">\n",
      "    <title>Case search</title>\n",
      "\n",
      "    <link href=\"/versionedResource/1d535ec/stylesheets/wcca.css\" media=\"all\" type=\"text/css\" rel=\"stylesheet\">\n",
      "    <link href=\"/versionedResource/1d535ec/webjars/foundation-icon-fonts/d596a3cfb3/foundation-icons.css\" rel=\"stylesheet\">\n",
      "    <link href=\"/versionedResource/1d535ec/favicon.ico\" sizes=\"16x16\" rel=\"icon\">\n",
      "    <link href=\"/versionedResource/1d535ec/classpath/common/images/lady-justice.png\" sizes=\"203x203\" rel=\"icon\">\n",
      "    <script type=\"text/javascript\" async=\"\" src=\"https://www.gstatic.com/recaptcha/releases/A1Aard-wURuGsXRGA7JMOqVO/recaptcha__en.js\"></script><script async=\"\" src=\"https://www.google-analytics.com/analytics.js\"></script><script src=\"/versionedResource/1d535ec/webjars/modernizr/2.8.3/modernizr.js\"></script>\n",
      "    <script src=\"/versionedResource/1d535ec/js/commons.packed.js\"></script>\n",
      "    <script src=\"/versionedResource/1d535ec/js/default.packed.js\"></script><style></style>\n",
      "  \n",
      "\t\n",
      "</head>\n",
      "<body data-lift-gc=\"F96522669855921PLSV\">\n",
      "\n",
      "    <div id=\"reactContent\"><div><div id=\"home-container\"><div id=\"skip\"><a href=\"#main-content\">Skip to main content.</a></div><div id=\"topBar\" class=\"nav\"><header class=\"v-flex\"><div class=\"row\"><a href=\"/case.html\"><img src=\"/classpath/common/images/lady-justice.png\" alt=\"\"><h1>Wisconsin Circuit Court Access</h1></a></div><div class=\"menus\"><div class=\"row\"><ul class=\"flex menu\"><div class=\"menu-group-1\"><li class=\"menu-item\"><a href=\"#\">Search <i class=\"fa fa-caret-down\" aria-hidden=\"true\"></i></a><ul class=\"submenu\"><li class=\"submenu-item\"><a href=\"case.html\">Simple</a></li><li class=\"submenu-item\"><a href=\"advanced.html\">Advanced</a></li><li class=\"submenu-item\"><a href=\"judgment.html\">Judgment</a></li></ul></li><li class=\"menu-item\"><a href=\"#\">Calendar <i class=\"fa fa-caret-down\" aria-hidden=\"true\"></i></a><ul class=\"submenu\"><li class=\"submenu-item\"><a href=\"attorneyCalendar.html\">Attorney</a></li><li class=\"submenu-item\"><a href=\"courtOfficialCalendar.html\">Court</a></li><li class=\"submenu-item\"><a href=\"lawEnforcementCalendar.html\">Law enforcement</a></li></ul></li><li class=\"menu-item noexpand\"><a href=\"payOnline.html\">Pay fees</a><ul class=\"submenu\"><li class=\"submenu-item\"><a href=\"payOnline.html\">Fee/fine search</a></li></ul></li><li class=\"menu-item\"><a href=\"#\">Reports <i class=\"fa fa-caret-down\" aria-hidden=\"true\"></i></a><ul class=\"submenu\"><li class=\"submenu-item\"><a href=\"jdgmtReport.html?searchBy=eventDate\">Civil judgment events</a></li><li class=\"submenu-item\"><a href=\"jdgmtReport.html?searchBy=dateDkted\">Docketed civil judgments by docket date</a></li><li class=\"submenu-item\"><a href=\"jdgmtReport.html?searchBy=jdgmtDate\">Docketed civil judgments by judgment date</a></li></ul></li><li class=\"menu-item\"><a href=\"#\">Help <i class=\"fa fa-caret-down\" aria-hidden=\"true\"></i></a><ul class=\"submenu\"><li class=\"submenu-item\"><a href=\"site.html\">Site help</a></li><li class=\"submenu-item\"><a href=\"faq.html\">Frequently asked questions</a></li><li class=\"submenu-item\"><a href=\"links.html\">Links</a></li><li class=\"submenu-item\"><a href=\"captcha-help.html\">CAPTCHA help</a></li></ul></li></div><div class=\"menu-group-2\"><li class=\"menu-item\"></li><li class=\"menu-item\"><a href=\"payFees\">View payments (0 items)</a></li><li id=\"mobile-menu\" class=\"menu-item\"><a><i class=\"fa fa-bars\" aria-hidden=\"true\"></i> Menu</a></li></div></ul></div></div><div class=\"bottom-border\"></div></header><div role=\"alert\" class=\"severe-error\"><div></div></div></div><div><div class=\"grecaptcha-badge\" data-style=\"bottomright\" style=\"width: 256px; height: 60px; display: block; transition: right 0.3s ease 0s; position: fixed; bottom: 14px; right: -186px; box-shadow: gray 0px 0px 5px; border-radius: 2px; overflow: hidden;\"><div class=\"grecaptcha-logo\"><iframe src=\"https://www.google.com/recaptcha/api2/anchor?ar=1&amp;k=6Ldm1B8UAAAAAE32K_nLNexunCOpfMhgFuDP3fc7&amp;co=aHR0cHM6Ly93Y2NhLndpY291cnRzLmdvdjo0NDM.&amp;hl=en&amp;type=image&amp;v=A1Aard-wURuGsXRGA7JMOqVO&amp;theme=light&amp;size=invisible&amp;badge=bottomright&amp;cb=qil4q9w90dp3\" width=\"256\" height=\"60\" role=\"presentation\" name=\"a-jclyk6l503pb\" frameborder=\"0\" scrolling=\"no\" sandbox=\"allow-forms allow-popups allow-same-origin allow-scripts allow-top-navigation allow-modals allow-popups-to-escape-sandbox\"></iframe></div><div class=\"grecaptcha-error\"></div><textarea id=\"g-recaptcha-response\" name=\"g-recaptcha-response\" class=\"g-recaptcha-response\" style=\"width: 250px; height: 40px; border: 1px solid rgb(193, 193, 193); margin: 10px 25px; padding: 0px; resize: none; display: none;\"></textarea></div></div><main class=\"row main-content\"><div><h2>Case search results</h2><span>You searched for: <span><span><strong>Last name: </strong>Smith, </span><span><strong>First name: </strong>John, </span><span><strong>Date of birth: </strong>09-11-2001</span></span></span><div></div><p id=\"topReturnToList\"><a href=\"/case.html\">Return to search</a> <span style=\"margin-left: auto;\"><a href=\"../caseSearchResults.do?rss=1&amp;includeMissingDob=true&amp;partyName.firstName=John&amp;partyName.lastName=Smith&amp;partyDateOfBirth.dateString=09-11-2001\" class=\"rss-button\"><i class=\"fa fa-rss\"></i></a></span></p><div><div id=\"caseSearchResults_wrapper\" class=\"dataTables_wrapper dt-foundation no-footer\"><div class=\"row dataTables_topBar\"><div class=\"columns\"><div class=\"num-rows-shown\"><div class=\"dataTables_length\" id=\"caseSearchResults_length\"><label>Show <select name=\"caseSearchResults_length\" aria-controls=\"caseSearchResults\" class=\"\"><option value=\"5\">5</option><option value=\"10\">10</option><option value=\"25\">25</option><option value=\"50\">50</option><option value=\"-1\">All</option></select> entries</label></div></div><div class=\"toolbar \"><div class=\"dataTables_toolbarWrapper\"><div class=\"button-bar button-row flex-row\"><div class=\"button-group\"><button class=\"button\" type=\"button\">Clear filters</button></div></div></div></div><div class=\"global-search\"></div></div></div><div class=\"row\"><div class=\"small-6 columns dataTables_topInfo\"><div class=\"dataTables_info\" id=\"caseSearchResults_info\" role=\"status\" aria-live=\"polite\">Showing 1 to 25 of 677 entries</div></div><div class=\"small-6 columns\"><div class=\"dataTables_paginate paging_simple_numbers\" id=\"caseSearchResults_paginate\"><ul class=\"pagination\"><li class=\"paginate_button previous unavailable disabled\" aria-controls=\"caseSearchResults\" tabindex=\"0\" id=\"caseSearchResults_previous\"><a href=\"#\">Previous</a></li><li class=\"paginate_button current\" aria-controls=\"caseSearchResults\" tabindex=\"0\"><a href=\"#\">1</a></li><li class=\"paginate_button \" aria-controls=\"caseSearchResults\" tabindex=\"0\"><a href=\"#\">2</a></li><li class=\"paginate_button \" aria-controls=\"caseSearchResults\" tabindex=\"0\"><a href=\"#\">3</a></li><li class=\"paginate_button \" aria-controls=\"caseSearchResults\" tabindex=\"0\"><a href=\"#\">4</a></li><li class=\"paginate_button \" aria-controls=\"caseSearchResults\" tabindex=\"0\"><a href=\"#\">5</a></li><li class=\"paginate_button unavailable disabled\" aria-controls=\"caseSearchResults\" tabindex=\"0\" id=\"caseSearchResults_ellipsis\"><a href=\"#\">…</a></li><li class=\"paginate_button \" aria-controls=\"caseSearchResults\" tabindex=\"0\"><a href=\"#\">28</a></li><li class=\"paginate_button next\" aria-controls=\"caseSearchResults\" tabindex=\"0\" id=\"caseSearchResults_next\"><a href=\"#\">Next</a></li></ul></div></div></div><table class=\"dataTable no-footer\" id=\"caseSearchResults\" aria-describedby=\"caseSearchResults_info\" role=\"grid\"><thead><tr role=\"row\"><th class=\"sorting\" tabindex=\"0\" aria-controls=\"caseSearchResults\" rowspan=\"1\" colspan=\"1\" style=\"display: &quot;&quot;\" aria-label=\"Case number: activate to sort column ascending\">Case number</th><th class=\"sorting_desc\" tabindex=\"0\" aria-controls=\"caseSearchResults\" rowspan=\"1\" colspan=\"1\" style=\"display: &quot;&quot;\" aria-label=\"Filing date: activate to sort column ascending\" aria-sort=\"descending\">Filing date</th><th class=\"sorting\" tabindex=\"0\" aria-controls=\"caseSearchResults\" rowspan=\"1\" colspan=\"1\" style=\"display: &quot;&quot;\" aria-label=\"County name: activate to sort column ascending\">County name</th><th class=\"sorting\" tabindex=\"0\" aria-controls=\"caseSearchResults\" rowspan=\"1\" colspan=\"1\" style=\"display: &quot;&quot;\" aria-label=\"Case status: activate to sort column ascending\">Case status</th><th class=\"sorting\" tabindex=\"0\" aria-controls=\"caseSearchResults\" rowspan=\"1\" colspan=\"1\" style=\"display: &quot;&quot;\" aria-label=\"Name: activate to sort column ascending\">Name</th><th class=\"sorting\" tabindex=\"0\" aria-controls=\"caseSearchResults\" rowspan=\"1\" colspan=\"1\" style=\"display: &quot;&quot;\" aria-label=\"Date of birth: activate to sort column ascending\">Date of birth</th><th class=\"sorting\" tabindex=\"0\" aria-controls=\"caseSearchResults\" rowspan=\"1\" colspan=\"1\" style=\"display: &quot;&quot;\" aria-label=\"Caption: activate to sort column ascending\">Caption</th></tr><tr class=\"filter\"><td><input placeholder=\"Search Case number...\" type=\"text\" value=\"\"></td><td><input placeholder=\"Search Filing date...\" type=\"text\" value=\"\"></td><td><select><option value=\"\">All</option><option value=\"^Adams$\">Adams</option><option value=\"^Ashland$\">Ashland</option><option value=\"^Barron$\">Barron</option><option value=\"^Bayfield$\">Bayfield</option><option value=\"^Brown$\">Brown</option><option value=\"^Chippewa$\">Chippewa</option><option value=\"^Clark$\">Clark</option><option value=\"^Columbia$\">Columbia</option><option value=\"^Crawford$\">Crawford</option><option value=\"^Dane$\">Dane</option><option value=\"^Dodge$\">Dodge</option><option value=\"^Door$\">Door</option><option value=\"^Douglas$\">Douglas</option><option value=\"^Dunn$\">Dunn</option><option value=\"^Eau Claire$\">Eau Claire</option><option value=\"^Florence$\">Florence</option><option value=\"^Fond du Lac$\">Fond du Lac</option><option value=\"^Forest$\">Forest</option><option value=\"^Grant$\">Grant</option><option value=\"^Green$\">Green</option><option value=\"^Green Lake$\">Green Lake</option><option value=\"^Jackson$\">Jackson</option><option value=\"^Jefferson$\">Jefferson</option><option value=\"^Kenosha$\">Kenosha</option><option value=\"^Kewaunee$\">Kewaunee</option><option value=\"^La Crosse$\">La Crosse</option><option value=\"^Lincoln$\">Lincoln</option><option value=\"^Manitowoc$\">Manitowoc</option><option value=\"^Marathon$\">Marathon</option><option value=\"^Marinette$\">Marinette</option><option value=\"^Marquette$\">Marquette</option><option value=\"^Milwaukee$\">Milwaukee</option><option value=\"^Monroe$\">Monroe</option><option value=\"^Oneida$\">Oneida</option><option value=\"^Outagamie$\">Outagamie</option><option value=\"^Ozaukee$\">Ozaukee</option><option value=\"^Pepin$\">Pepin</option><option value=\"^Pierce$\">Pierce</option><option value=\"^Polk$\">Polk</option><option value=\"^Price$\">Price</option><option value=\"^Racine$\">Racine</option><option value=\"^Richland$\">Richland</option><option value=\"^Rock$\">Rock</option><option value=\"^Sauk$\">Sauk</option><option value=\"^Sawyer$\">Sawyer</option><option value=\"^Shawano$\">Shawano</option><option value=\"^Sheboygan$\">Sheboygan</option><option value=\"^St Croix$\">St Croix</option><option value=\"^Taylor$\">Taylor</option><option value=\"^Trempealeau$\">Trempealeau</option><option value=\"^Vernon$\">Vernon</option><option value=\"^Vilas$\">Vilas</option><option value=\"^Walworth$\">Walworth</option><option value=\"^Washburn$\">Washburn</option><option value=\"^Washington$\">Washington</option><option value=\"^Waukesha$\">Waukesha</option><option value=\"^Waupaca$\">Waupaca</option><option value=\"^Waushara$\">Waushara</option><option value=\"^Winnebago$\">Winnebago</option><option value=\"^Wood$\">Wood</option></select></td><td><select><option value=\"\">All</option><option value=\"^Closed$\">Closed</option><option value=\"^Filed Only$\">Filed Only</option><option value=\"^Open$\">Open</option></select></td><td><input placeholder=\"Search Name...\" type=\"text\" value=\"\"></td><td><input placeholder=\"Search Date of birth...\" type=\"text\" value=\"\"></td><td><input placeholder=\"Search Caption...\" type=\"text\" value=\"\"></td></tr></thead><tbody><tr role=\"row\" class=\"odd\"><td><a class=\"case-link\" href=\"caseDetail.html?caseNo=2020SC000062&amp;countyNo=53&amp;index=0\">2020SC000062</a></td><td class=\"sorting_1\">01-07-2020</td><td>Rock</td><td>Open</td><td>Smith, Johnroberts</td><td></td><td>Richard Donahue vs. Johnroberts Smith et al</td></tr><tr role=\"row\" class=\"even\"><td><a class=\"case-link\" href=\"caseDetail.html?caseNo=2020SC000027&amp;countyNo=11&amp;index=0\">2020SC000027</a></td><td class=\"sorting_1\">01-07-2020</td><td>Columbia</td><td>Open</td><td>SMITH, JOHNELL S</td><td></td><td>UW HEALTH vs. JOHNELL S SMITH</td></tr><tr role=\"row\" class=\"odd\"><td><a class=\"case-link\" href=\"caseDetail.html?caseNo=2020CV000131&amp;countyNo=40&amp;index=0\">2020CV000131</a></td><td class=\"sorting_1\">01-07-2020</td><td>Milwaukee</td><td>Open</td><td>Smith, John</td><td></td><td>Wells Fargo Bank, N.A. vs. Tammy Patterson-Green A/K/A Tammy Mayweather et al</td></tr><tr role=\"row\" class=\"even\"><td><a class=\"case-link\" href=\"caseDetail.html?caseNo=2019CV009859&amp;countyNo=40&amp;index=0\">2019CV009859</a></td><td class=\"sorting_1\">12-31-2019</td><td>Milwaukee</td><td>Open</td><td>Smith, John Doe</td><td></td><td>Deutsche Bank National Trust Company vs. Donyel Smith et al</td></tr><tr role=\"row\" class=\"odd\"><td><a class=\"case-link\" href=\"caseDetail.html?caseNo=2019CV009184&amp;countyNo=40&amp;index=0\">2019CV009184</a></td><td class=\"sorting_1\">12-03-2019</td><td>Milwaukee</td><td>Open</td><td>Smith, John Doe</td><td></td><td>Bayview Loan Servicing, LLC vs. Joann Burroughs et al</td></tr><tr role=\"row\" class=\"even\"><td><a class=\"case-link\" href=\"caseDetail.html?caseNo=2019CV008978&amp;countyNo=40&amp;index=0\">2019CV008978</a></td><td class=\"sorting_1\">11-22-2019</td><td>Milwaukee</td><td>Closed</td><td>Smith, John Doe</td><td></td><td>The Equitable Bank, S.S.B. vs. Marjorie H. Smith et al</td></tr><tr role=\"row\" class=\"odd\"><td><a class=\"case-link\" href=\"caseDetail.html?caseNo=2019CV000443&amp;countyNo=45&amp;index=0\">2019CV000443</a></td><td class=\"sorting_1\">11-06-2019</td><td>Ozaukee</td><td>Closed</td><td>Smith, John</td><td></td><td>State of Wisconsin, Department of Revenue vs. John Smith</td></tr><tr role=\"row\" class=\"even\"><td><a class=\"case-link\" href=\"caseDetail.html?caseNo=2019CV001609&amp;countyNo=51&amp;index=0\">2019CV001609</a></td><td class=\"sorting_1\">10-03-2019</td><td>Racine</td><td>Open</td><td>Smith, John Doe</td><td></td><td>Planet Home Lending, LLC vs. Doris A. Smith et al</td></tr><tr role=\"row\" class=\"odd\"><td><a class=\"case-link\" href=\"caseDetail.html?caseNo=2019CV007544&amp;countyNo=40&amp;index=0\">2019CV007544</a></td><td class=\"sorting_1\">09-30-2019</td><td>Milwaukee</td><td>Closed</td><td>Smith, John Doe</td><td></td><td>Deutsche Bank National Trust Company, as Trustee vs. Patricia S. Smith et al</td></tr><tr role=\"row\" class=\"even\"><td><a class=\"case-link\" href=\"caseDetail.html?caseNo=2019CV001578&amp;countyNo=67&amp;index=0\">2019CV001578</a></td><td class=\"sorting_1\">09-05-2019</td><td>Waukesha</td><td>Closed</td><td>Smith, John Doe</td><td></td><td>HSBC Bank USA, N.A. vs. Jeff Smith et al</td></tr><tr role=\"row\" class=\"odd\"><td><a class=\"case-link\" href=\"caseDetail.html?caseNo=2019SC000327&amp;countyNo=27&amp;index=0\">2019SC000327</a></td><td class=\"sorting_1\">08-07-2019</td><td>Jackson</td><td>Closed</td><td>Smith, John H</td><td></td><td>John H Smith et al vs. Bonnie M Terrell</td></tr><tr role=\"row\" class=\"even\"><td><a class=\"case-link\" href=\"caseDetail.html?caseNo=2019CV005999&amp;countyNo=40&amp;index=0\">2019CV005999</a></td><td class=\"sorting_1\">08-05-2019</td><td>Milwaukee</td><td>Open</td><td>Smith, John Doe</td><td></td><td>Nationstar Mortgage LLC d/b/a Mr. Cooper vs. Kathereen Smith et al</td></tr><tr role=\"row\" class=\"odd\"><td><a class=\"case-link\" href=\"caseDetail.html?caseNo=2019SC030713&amp;countyNo=40&amp;index=0\">2019SC030713</a></td><td class=\"sorting_1\">07-09-2019</td><td>Milwaukee</td><td>Closed</td><td>Smith, Johnelle</td><td></td><td>Lashawn A Crain vs. Johnelle Smith</td></tr><tr role=\"row\" class=\"even\"><td><a class=\"case-link\" href=\"caseDetail.html?caseNo=2019SC000747&amp;countyNo=11&amp;index=0\">2019SC000747</a></td><td class=\"sorting_1\">06-19-2019</td><td>Columbia</td><td>Closed</td><td>Smith, Johnell S</td><td></td><td>University of Wisconsin Hospital and Clinics Authority vs. Johnell S Smith</td></tr><tr role=\"row\" class=\"odd\"><td><a class=\"case-link\" href=\"caseDetail.html?caseNo=2019SC017741&amp;countyNo=40&amp;index=0\">2019SC017741</a></td><td class=\"sorting_1\">06-03-2019</td><td>Milwaukee</td><td>Closed</td><td>Smith, Johnny J, Jr</td><td></td><td>Discover Bank vs. Johnny J Smith Jr</td></tr><tr role=\"row\" class=\"even\"><td><a class=\"case-link\" href=\"caseDetail.html?caseNo=2019OL000006&amp;countyNo=21&amp;index=0\">2019OL000006</a></td><td class=\"sorting_1\">05-24-2019</td><td>Forest</td><td>Filed Only</td><td>Smith, Johnathon</td><td></td><td>Public Assistance Collection Unit vs. Johnathon Smith</td></tr><tr role=\"row\" class=\"odd\"><td><a class=\"case-link\" href=\"caseDetail.html?caseNo=2019GF000009&amp;countyNo=68&amp;index=0\">2019GF000009</a></td><td class=\"sorting_1\">05-13-2019</td><td>Waupaca</td><td>Filed Only</td><td>Smith, John</td><td></td><td>Deputy Sheriff Appointments</td></tr><tr role=\"row\" class=\"even\"><td><a class=\"case-link\" href=\"caseDetail.html?caseNo=2019CV003177&amp;countyNo=40&amp;index=0\">2019CV003177</a></td><td class=\"sorting_1\">04-23-2019</td><td>Milwaukee</td><td>Closed</td><td>Smith, John Doe</td><td></td><td>U.S. Bank National Association vs. Angeline Smith et al</td></tr><tr role=\"row\" class=\"odd\"><td><a class=\"case-link\" href=\"caseDetail.html?caseNo=2019SC001320&amp;countyNo=53&amp;index=0\">2019SC001320</a></td><td class=\"sorting_1\">04-22-2019</td><td>Rock</td><td>Closed</td><td>Smith, Johnnequa Jenia</td><td></td><td>Johnnequa Jenia Smith vs. Felicia Michelle Smith</td></tr><tr role=\"row\" class=\"even\"><td><a class=\"case-link\" href=\"caseDetail.html?caseNo=2019SC012021&amp;countyNo=40&amp;index=0\">2019SC012021</a></td><td class=\"sorting_1\">04-16-2019</td><td>Milwaukee</td><td>Closed</td><td>Smith, Johnathan</td><td></td><td>City of Milwaukee vs. Johnathan Smith</td></tr><tr role=\"row\" class=\"odd\"><td><a class=\"case-link\" href=\"caseDetail.html?caseNo=2019TW000042&amp;countyNo=45&amp;index=0\">2019TW000042</a></td><td class=\"sorting_1\">03-28-2019</td><td>Ozaukee</td><td>Filed Only</td><td>SMITH, JOHN JEFFREY</td><td></td><td>Dept. of Revenue vs. JOHN JEFFREY SMITH</td></tr><tr role=\"row\" class=\"even\"><td><a class=\"case-link\" href=\"caseDetail.html?caseNo=2019SC000338&amp;countyNo=16&amp;index=0\">2019SC000338</a></td><td class=\"sorting_1\">03-14-2019</td><td>Douglas</td><td>Closed</td><td>Smith, Johnny R., Sr.</td><td></td><td>OneMain Financial Group, LLC, SBM to OneMain Financial vs. Johnny R. Smith Sr.</td></tr><tr role=\"row\" class=\"odd\"><td><a class=\"case-link\" href=\"caseDetail.html?caseNo=2019CV000146&amp;countyNo=66&amp;index=0\">2019CV000146</a></td><td class=\"sorting_1\">03-14-2019</td><td>Washington</td><td>Closed</td><td>Smith, John/Jane Doe</td><td></td><td>Associated Bank, N.A. vs. Kevin D. Smith et al</td></tr><tr role=\"row\" class=\"even\"><td><a class=\"case-link\" href=\"caseDetail.html?caseNo=2019SC005440&amp;countyNo=40&amp;index=0\">2019SC005440</a></td><td class=\"sorting_1\">02-18-2019</td><td>Milwaukee</td><td>Closed</td><td>Smith, Johnny J, Jr</td><td></td><td>Discover Bank vs. Johnny J Smith Jr</td></tr><tr role=\"row\" class=\"odd\"><td><a class=\"case-link\" href=\"caseDetail.html?caseNo=2019PR000009&amp;countyNo=58&amp;index=0\">2019PR000009</a></td><td class=\"sorting_1\">02-14-2019</td><td>Shawano</td><td>Open</td><td>Smith, John W</td><td></td><td>In the Estate of BettyLou Hafemann</td></tr></tbody></table><div class=\"row\"><div class=\"small-6 columns\"></div><div class=\"small-6 columns\"><div class=\"dataTables_paginate paging_simple_numbers\"><ul class=\"pagination\"><li class=\"paginate_button previous unavailable disabled\" aria-controls=\"caseSearchResults\" tabindex=\"0\"><a href=\"#\">Previous</a></li><li class=\"paginate_button current\" aria-controls=\"caseSearchResults\" tabindex=\"0\"><a href=\"#\">1</a></li><li class=\"paginate_button \" aria-controls=\"caseSearchResults\" tabindex=\"0\"><a href=\"#\">2</a></li><li class=\"paginate_button \" aria-controls=\"caseSearchResults\" tabindex=\"0\"><a href=\"#\">3</a></li><li class=\"paginate_button \" aria-controls=\"caseSearchResults\" tabindex=\"0\"><a href=\"#\">4</a></li><li class=\"paginate_button \" aria-controls=\"caseSearchResults\" tabindex=\"0\"><a href=\"#\">5</a></li><li class=\"paginate_button unavailable disabled\" aria-controls=\"caseSearchResults\" tabindex=\"0\"><a href=\"#\">…</a></li><li class=\"paginate_button \" aria-controls=\"caseSearchResults\" tabindex=\"0\"><a href=\"#\">28</a></li><li class=\"paginate_button next\" aria-controls=\"caseSearchResults\" tabindex=\"0\"><a href=\"#\">Next</a></li></ul></div></div></div></div></div><p id=\"bottomReturnToList\"><a href=\"/case.html\">Return to search</a> </p></div></main><footer><div class=\"footerLinks\"><div class=\"row\"><p>Technical problems? <a href=\"contactUs.html\">Contact us</a>.</p><p style=\"margin-left: auto;\"><a href=\"/disclosures.html\">Notices and disclosures</a> | <a href=\"/policy.html\">Public records on the internet</a> | <a href=\"/rest-help.html\">Data extraction option</a> | <a href=\"/rss-help.html\">RSS</a></p></div></div></footer></div><div class=\"multi-modals-dock\"></div><div></div></div></div>\n",
      "\n",
      "    <script type=\"text/javascript\">\n",
      "      // Foundation JavaScript\n",
      "      // Documentation can be found at: http://foundation.zurb.com/docs\n",
      "      $(document).foundation();\n",
      "    </script>\n",
      "    \n",
      "    <script src=\"/versionedResource/1d535ec/js/index.packed.js\"></script>\n",
      "  \n",
      "\n",
      "\n",
      "\t\n",
      "\n",
      "  \n",
      "  <script src=\"https://www.google.com/recaptcha/api.js?onload=onloadcallback&amp;render=explicit\" async=\"\"></script><div style=\"visibility: hidden; position: absolute; width: 100%; top: -10000px; left: 0px; right: 0px; transition: visibility 0s linear 0.3s, opacity 0.3s linear 0s; opacity: 0;\"><div style=\"width: 100%; height: 100%; position: fixed; top: 0px; left: 0px; z-index: 2000000000; background-color: rgb(255, 255, 255); opacity: 0.5;\"></div><div style=\"margin: 0px auto; top: 0px; left: 0px; right: 0px; position: absolute; border: 1px solid rgb(204, 204, 204); z-index: 2000000000; background-color: rgb(255, 255, 255); overflow: hidden;\"><iframe title=\"recaptcha challenge\" src=\"https://www.google.com/recaptcha/api2/bframe?hl=en&amp;v=A1Aard-wURuGsXRGA7JMOqVO&amp;k=6Ldm1B8UAAAAAE32K_nLNexunCOpfMhgFuDP3fc7&amp;cb=fhk3hp88wfzh\" name=\"c-jclyk6l503pb\" frameborder=\"0\" scrolling=\"no\" sandbox=\"allow-forms allow-popups allow-same-origin allow-scripts allow-top-navigation allow-modals allow-popups-to-escape-sandbox\" style=\"width: 100%; height: 100%;\"></iframe></div></div></body></html>\n"
     ]
    }
   ],
   "source": [
    "# For debugging purposes\n",
    "html = __BROWSER__.page_source\n",
    "print(html)"
   ]
  },
  {
   "cell_type": "markdown",
   "metadata": {},
   "source": [
    "# ToDo\n",
    "- Finish setting up date input\n",
    "- Finish enabling search\n",
    "- Document websites that can't be loaded due to captcha\n",
    "\n",
    "# Completed\n",
    "- Input for f/m/l name\n",
    "- Massive regex overhaul\n",
    "    - Input dates (sort of broken though)\n",
    "    - Press enter (sort of broken)"
   ]
  }
 ],
 "metadata": {
  "kernelspec": {
   "display_name": "Python 3",
   "language": "python",
   "name": "python3"
  },
  "language_info": {
   "codemirror_mode": {
    "name": "ipython",
    "version": 3
   },
   "file_extension": ".py",
   "mimetype": "text/x-python",
   "name": "python",
   "nbconvert_exporter": "python",
   "pygments_lexer": "ipython3",
   "version": "3.7.3"
  }
 },
 "nbformat": 4,
 "nbformat_minor": 2
}
