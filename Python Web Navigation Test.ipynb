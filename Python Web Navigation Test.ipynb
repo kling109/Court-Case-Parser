{
 "cells": [
  {
   "cell_type": "markdown",
   "metadata": {},
   "source": [
    "# Imports"
   ]
  },
  {
   "cell_type": "code",
   "execution_count": 305,
   "metadata": {},
   "outputs": [],
   "source": [
    "from selenium import webdriver\n",
    "import re as regx\n",
    "import time\n",
    "import datetime"
   ]
  },
  {
   "cell_type": "markdown",
   "metadata": {},
   "source": [
    "# Browser"
   ]
  },
  {
   "cell_type": "code",
   "execution_count": 248,
   "metadata": {},
   "outputs": [],
   "source": [
    "__BROWSER__ = webdriver.Chrome()"
   ]
  },
  {
   "cell_type": "markdown",
   "metadata": {},
   "source": [
    "# Global Testing Variables"
   ]
  },
  {
   "cell_type": "code",
   "execution_count": 307,
   "metadata": {},
   "outputs": [],
   "source": [
    "__TESTINGWEBSITES__ = [\"https://www.sccourts.org/casesearch/\", # agreement says no crawlers\n",
    "                       \"https://wcca.wicourts.gov/case.html\",\n",
    "                       \"https://www.oscn.net/dockets/search.aspx\",\n",
    "                       \"https://www.civitekflorida.com/ocrs/county/\", # recapcha\n",
    "                       \"https://apps.supremecourt.az.gov/publicaccess/caselookup.aspx\", # captcha\n",
    "                       \"https://www.superiorcourt.maricopa.gov/docket/CriminalCourtCases/caseSearch.asp\",\n",
    "                       \"http://justicecourts.maricopa.gov/FindACase/casehistory.aspx\",\n",
    "                       \"https://casesearch.epcounty.com/PublicAccess/default.aspx\"]\n",
    "\n",
    "__LEGALWEBSITES__ = __TESTINGWEBSITES__[1:3] + __TESTINGWEBSITES__[-3:]\n",
    "\n",
    "__TESTING_FNAME__ = \"John\"\n",
    "__TESTING_LNAME__ = \"Smith\"\n",
    "__TESTING_MNAME__ = \"Herbert\"\n",
    "\n",
    "__TESTING_DOB__ = datetime.datetime(2001, 9, 11)"
   ]
  },
  {
   "cell_type": "code",
   "execution_count": 250,
   "metadata": {},
   "outputs": [],
   "source": [
    "# Removes one for testing\n",
    "__LEGALWEBSITES__ = __LEGALWEBSITES__[:-1]"
   ]
  },
  {
   "cell_type": "markdown",
   "metadata": {},
   "source": [
    "# Regex"
   ]
  },
  {
   "cell_type": "code",
   "execution_count": 302,
   "metadata": {},
   "outputs": [],
   "source": [
    "__FIRSTNAME__ = \"=\\\"[^\\\"]*[Ff][A-Za-z]*[Nn]ame[A-Za-z]*\\\"\"\n",
    "__LASTNAME__ = \"=\\\"[^\\\"]*[Ll][A-Za-z]*[Nn]ame[A-Za-z]*\\\"\"\n",
    "__MIDDLENAME__ = \"=\\\"[^\\\"]*[Mm][A-Za-z]*[Nn]ame[A-Za-z]*\\\"\"\n",
    "__BIRTHDATE__ = \"=\\\"[^\\\"]*[Bb]irth[A-Za-z]*\\\"\""
   ]
  },
  {
   "cell_type": "markdown",
   "metadata": {},
   "source": [
    "# Function Declaration"
   ]
  },
  {
   "cell_type": "markdown",
   "metadata": {},
   "source": [
    "## Scraping Info from Webpage"
   ]
  },
  {
   "cell_type": "code",
   "execution_count": 296,
   "metadata": {},
   "outputs": [],
   "source": [
    "# function that get's the html from a web url\n",
    "def getSource(strURL):\n",
    "    __BROWSER__.get(strURL)\n",
    "    time.sleep(1)\n",
    "    print(\"Scrsaping website source code...\")\n",
    "    return __BROWSER__.page_source\n",
    "\n",
    "def regSearchName(ws, re):\n",
    "    _result = regx.search(\"name\" + re, ws)\n",
    "    if(_result is None):\n",
    "        return \"\";\n",
    "    else:\n",
    "        return _result[0][6:-1]\n",
    "\n",
    "def regSearchID(ws, re):\n",
    "    _result = regx.search(\"id\" + re, ws)\n",
    "    if(_result is None):\n",
    "        return \"\";\n",
    "    else:\n",
    "        return _result[0][4:-1]\n",
    "\n",
    "def getIDandName(ws, re):\n",
    "    return (regSearchID(ws, re), regSearchName(ws, re))"
   ]
  },
  {
   "cell_type": "markdown",
   "metadata": {},
   "source": [
    "## Javascript Operations"
   ]
  },
  {
   "cell_type": "code",
   "execution_count": 314,
   "metadata": {},
   "outputs": [],
   "source": [
    "def fillOutName(html, ln, fn, mn = \"\"):\n",
    "    fnID, fnName = getIDandName(html, __FIRSTNAME__)\n",
    "    mnID, mnName = getIDandName(html, __MIDDLENAME__)\n",
    "    lnID, lnName = getIDandName(html, __LASTNAME__)\n",
    "\n",
    "    sendInput(fnName, fn)\n",
    "    sendInput(mnName, mn)\n",
    "    sendInput(lnName, ln)\n",
    "\n",
    "    \n",
    "def sendInput(e, s):\n",
    "    item = __BROWSER__.find_element_by_name(e)\n",
    "    item.click()\n",
    "    item.clear()\n",
    "    item.send_keys(s)\n",
    "    \n",
    "def fillOutDOB(html, dob):\n",
    "    dID, dName = getIDandName(__WEBSITEHTML__[0], __BIRTHDATE__)\n",
    "    item = __BROWSER__.find_element_by_name(dName)\n",
    "    item.click()\n",
    "    item.send_keys(dob.day)"
   ]
  },
  {
   "cell_type": "markdown",
   "metadata": {},
   "source": [
    "# Testing"
   ]
  },
  {
   "cell_type": "code",
   "execution_count": 254,
   "metadata": {},
   "outputs": [],
   "source": [
    "__WEBSITEHTML__ = []\n",
    "\n",
    "for site in __LEGALWEBSITES__:\n",
    "    __WEBSITEHTML__.append(getSource(site))\n"
   ]
  },
  {
   "cell_type": "code",
   "execution_count": 315,
   "metadata": {},
   "outputs": [],
   "source": [
    "fillOutName(__WEBSITEHTML__[0], \"Smith\", \"John\", \"Harold\")\n",
    "fillOutDOB(__WEBSITEHTML__[0], __TESTING_DOB__)"
   ]
  },
  {
   "cell_type": "code",
   "execution_count": 303,
   "metadata": {},
   "outputs": [
    {
     "name": "stdout",
     "output_type": "stream",
     "text": [
      "('', 'dateOfBirth')\n"
     ]
    }
   ],
   "source": []
  },
  {
   "cell_type": "markdown",
   "metadata": {},
   "source": [
    "# ToDo\n",
    "- Finish setting up date input\n",
    "\n",
    "# Completed\n",
    "- Input for f/m/l name"
   ]
  }
 ],
 "metadata": {
  "kernelspec": {
   "display_name": "Python 3",
   "language": "python",
   "name": "python3"
  },
  "language_info": {
   "codemirror_mode": {
    "name": "ipython",
    "version": 3
   },
   "file_extension": ".py",
   "mimetype": "text/x-python",
   "name": "python",
   "nbconvert_exporter": "python",
   "pygments_lexer": "ipython3",
   "version": "3.7.3"
  }
 },
 "nbformat": 4,
 "nbformat_minor": 2
}
